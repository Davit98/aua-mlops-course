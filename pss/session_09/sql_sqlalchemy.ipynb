{
 "cells": [
  {
   "cell_type": "markdown",
   "id": "26ba2367-6f0d-47dd-a4f7-7c2581d7c720",
   "metadata": {},
   "source": [
    "# AUA, DS 229 – MLOps\n",
    "### Week 11 – SQL & SQLAlchemy\n",
    "\n",
    "***"
   ]
  },
  {
   "cell_type": "markdown",
   "id": "2caa8249-dfe5-48ba-a5fd-0313a2d70b7d",
   "metadata": {},
   "source": [
    "## What is Python `__name__`? (the question from the previous session)\n",
    "\n",
    "In Python, `__name__` is a special variable that is automatically defined for every module. It is used to determine if a module is being run as the main program or if it is being imported as a module into another program.\n",
    "\n",
    "When a Python script is executed, the interpreter sets the `__name__` variable to `\"__main__\"`. This indicates that the script is being run as the main program. On the other hand, if a module is imported into another program, its `__name__` variable is set to the module name.\n",
    "\n",
    "This behavior is useful when writing Python scripts that can be used both as standalone programs and as modules that can be imported into other programs. By using the `__name__` variable, you can write code that is only executed when the script is run as the main program, but not when it is imported as a module."
   ]
  },
  {
   "cell_type": "code",
   "execution_count": null,
   "id": "c71689e1-3068-4023-b48d-28f3ab4f5394",
   "metadata": {},
   "outputs": [],
   "source": [
    "from dummy import get_name"
   ]
  },
  {
   "cell_type": "code",
   "execution_count": null,
   "id": "ebaaa395-456d-451e-b841-b382d38d0f7c",
   "metadata": {},
   "outputs": [],
   "source": [
    "get_name()  # The script name is: `dummy.py`"
   ]
  },
  {
   "cell_type": "code",
   "execution_count": null,
   "id": "503eec36-10c9-424c-9b19-68d2280db409",
   "metadata": {},
   "outputs": [],
   "source": [
    "!python dummy.py"
   ]
  },
  {
   "cell_type": "markdown",
   "id": "ed4a301b-ed4e-450f-a218-e0cbdb3fe329",
   "metadata": {},
   "source": [
    "Why do we initialize Flask app with `__name__`?\n",
    "```python\n",
    "    # Inside app.py\n",
    "    from flask import Flask\n",
    "    app = Flask(__name__)\n",
    "```\n",
    "`__name__` is the name of the current Python module. The app needs to know where it’s located to set up some paths, and `__name__` is a convenient way to tell it that. Look through [this page](https://flask.palletsprojects.com/en/2.2.x/tutorial/factory/#:~:text=__name__%20is%20the,relative%20to%20the%20instance%20folder.) for more information.\n",
    "\n",
    "Basically, `__name__` is used for Flask to configure where your application resides. If we set app name to some other string, then, in order to run the application we will need to execute `python app.py` drectly from the directory of `app.py`. Setting name to `__name__` makes it posible to run the script from outside."
   ]
  },
  {
   "cell_type": "markdown",
   "id": "4625c9d8-b88c-42eb-bfc8-f9617f77687d",
   "metadata": {},
   "source": [
    "## SQL\n",
    "\n",
    "SQL (Structured Query Language) is a standard programming language used to manage and manipulate relational databases. It is used to create, modify, and query databases, and is considered one of the most popular and widely used database languages.\n",
    "\n",
    "SQL is used to communicate with databases and perform operations like retrieving data, inserting data, updating data, and deleting data. It is used in a variety of applications, such as online banking, e-commerce, inventory management, and data analytics.\n",
    "\n",
    "**SQL is a declarative language**, which means that users simply declare what they want to do with the data, and the database management system figures out how to do it. SQL syntax is relatively easy to learn and understand, and it is supported by many relational database management systems, including MySQL, Oracle, SQL Server, PostgreSQL, and SQLite.\n",
    "\n",
    "SQL works under the hood by interacting with a database management system (DBMS). When a user sends an SQL query to the DBMS, the query is first parsed and checked for errors. If the query is valid, the **DBMS uses an optimizer to create an execution plan that determines the most efficient way to execute the query**. The execution plan involves several steps, including parsing the query, optimizing the plan, and executing the plan. The plan may involve accessing data from one or more tables, joining tables together, filtering data based on specified criteria, and returning the results to the user. When a query is executed, the DBMS may use various techniques to optimize performance, such as caching frequently accessed data in memory, creating indexes to speed up searches, and using parallel processing to execute multiple parts of a query at the same time.\n",
    "\n",
    "> A **DBMS** is a software system that provides tools for managing and manipulating data stored in a database. It typically includes features for creating, modifying, and querying the database, as well as tools for managing users, security, backups, and other administrative tasks.  \n",
    "> A **database engine**, on the other hand, is the core software component of a DBMS that is responsible for storing, retrieving, and managing data. It is the part of the DBMS that handles low-level data operations, such as reading and writing data to disk, indexing data for faster retrieval, and managing transactions to ensure data consistency.  \n",
    "> While the terms DBMS and database engine can sometimes be used interchangeably, they can also be used to refer to different aspects of a database system. In general, the DBMS is the overall system that provides tools for managing and manipulating data, while the database engine is the software component that actually manages the data at a low level.\n",
    "\n",
    "Here are some of the core keywords in SQL:\n",
    "\n",
    "- **SELECT**: used to retrieve data from one or more tables in a database.  \n",
    "- **FROM**: used to specify the table or tables from which to retrieve data.  \n",
    "- **WHERE**: used to specify filtering criteria for selecting data.  \n",
    "- **JOIN**: used to combine data from two or more tables based on a related column.  \n",
    "- **INSERT**: used to add new data to a table.  \n",
    "- **UPDATE**: used to modify existing data in a table.  \n",
    "- **DELETE**: used to remove data from a table.  \n",
    "- **CREATE**: used to create new tables, views, or other database objects.  \n",
    "- **ALTER**: used to modify the structure of an existing database object, such as a table or view.  \n",
    "- **DROP**: used to delete an existing database object.  \n",
    "- **GROUP** BY: used to group data based on one or more columns.  \n",
    "- **HAVING**: used to filter grouped data based on specified criteria.  \n",
    "- **ORDER BY**: used to sort data based on one or more columns.  \n",
    "- **DISTINCT**: used to retrieve unique values from a column.  \n",
    "- **COUNT**: used to count the number of rows or non-null values in a column.  "
   ]
  },
  {
   "cell_type": "markdown",
   "id": "7907472e-68dd-4ff3-ab88-2318d268c4e2",
   "metadata": {},
   "source": [
    "### SQLite\n",
    "\n",
    "<center><img src=\"./images/sqlite.png\" width=500 height = 100/></center>\n",
    "\n",
    "SQLite is a free, lightweight, and open-source relational database management system (RDBMS) that is widely used to manage structured data. It is a software library that provides a relational database management system, with support for SQL queries, transactions, and other features typically associated with a full-fledged RDBMS.\n",
    "\n",
    "**SQLite is different from traditional client-server databases such as MySQL or PostgreSQL, as it is serverless and self-contained, meaning it does not require a separate server process and can be embedded directly into an application**. It is often used for small to medium-sized applications or for prototyping and testing purposes, due to its simplicity and ease of use."
   ]
  },
  {
   "cell_type": "markdown",
   "id": "44f5558c-ce03-4c27-be87-e74bf4620461",
   "metadata": {},
   "source": [
    "## What do we have from the previous session?"
   ]
  },
  {
   "cell_type": "code",
   "execution_count": null,
   "id": "4775e43a-d7bf-4d4f-a7e9-c67810ac728b",
   "metadata": {},
   "outputs": [],
   "source": [
    "import pickle\n",
    "import requests\n",
    "import json\n",
    "import random\n",
    "from datetime import datetime, date, timedelta\n",
    "\n",
    "import pandas as pd\n",
    "import numpy as np\n",
    "from sklearn.datasets import load_breast_cancer\n",
    "from sklearn.svm import SVC\n",
    "from sklearn.model_selection import GridSearchCV, train_test_split\n",
    "from sklearn.metrics import classification_report\n",
    "from sklearn.preprocessing import StandardScaler\n",
    "from tqdm import tqdm"
   ]
  },
  {
   "cell_type": "code",
   "execution_count": null,
   "id": "545cf5d4-238b-4bf4-ad22-22e54b8c60b6",
   "metadata": {},
   "outputs": [],
   "source": [
    "# Reading the data.\n",
    "cancer = load_breast_cancer()\n",
    "features = [\"mean concavity\", \"worst area\", \"mean area\"]\n",
    "df_feat = pd.DataFrame(cancer[\"data\"], columns=cancer[\"feature_names\"])\n",
    "df_target = pd.DataFrame(cancer[\"target\"], columns=[\"Cancer\"])\n",
    "df_feat = df_feat[features]\n",
    "\n",
    "# Train / test split.\n",
    "X_train, X_test, y_train, y_test = train_test_split(df_feat, np.ravel(df_target), \n",
    "                                                    test_size=0.20, random_state=5)"
   ]
  },
  {
   "cell_type": "code",
   "execution_count": null,
   "id": "dc8088eb-4ca7-458b-b5bb-e051836d604b",
   "metadata": {},
   "outputs": [],
   "source": [
    "# Data preprocessing.\n",
    "scaler = StandardScaler()\n",
    "X_train_transformed = scaler.fit_transform(X_train)\n",
    "X_test_transformed = scaler.transform(X_test)\n",
    "\n",
    "# Hyperparameter tuning.\n",
    "param_grid = {\"C\": [0.1, 1, 10, 100, 1000], \n",
    "              \"gamma\": [1, 0.1, 0.01, 0.001, 0.0001], \n",
    "              \"kernel\": [\"rbf\", \"linear\", \"poly\"]}\n",
    "model = GridSearchCV(SVC(), param_grid, refit=True, cv=3, verbose=1)\n",
    "model.fit(X_train_transformed, y_train)\n",
    "\n",
    "# Test set prformance.\n",
    "pred = model.predict(X_test_transformed)\n",
    "print(classification_report(y_test, pred))"
   ]
  },
  {
   "cell_type": "markdown",
   "id": "984aa988-5924-48ff-b5aa-ffd6ed89f46f",
   "metadata": {
    "tags": []
   },
   "source": [
    "### Create a database\n",
    "\n",
    "- **Connection**: A connection represents a connection to a database. When you connect to a database, you create a connection object, which allows you to interact with the database. The connection object is responsible for managing transactions, executing SQL queries, and returning results.\n",
    "\n",
    "- **Execute**: The `execute()` method is used to execute a SQL query. It takes a single string argument, which is the SQL query to execute. The result of the query (if any) can be accessed using the cursor object that was used to execute the query. The `execute()` method can also be used to execute parameterized queries, where query parameters are specified using placeholders in the SQL string.\n",
    "\n",
    "- **Commit**: The `commit()` method is used to commit a transaction to the database. Transactions are used to group a series of database operations together into a single atomic operation. The `commit()` method is used to commit the changes made during a transaction to the database. If the transaction was successful, the changes are permanently saved to the database. If the transaction was not successful, the changes are rolled back (undone) and the database is left in its previous state.\n",
    "\n",
    "It is important to note that transactions are not automatically committed. You must explicitly call the `commit()` method to commit a transaction. If you do not call `commit()`, the changes made during the transaction will be lost when the connection to the database is closed.\n"
   ]
  },
  {
   "cell_type": "code",
   "execution_count": null,
   "id": "b2efcc12-8544-467a-8cf1-bab45ee58483",
   "metadata": {},
   "outputs": [],
   "source": [
    "import sqlite3"
   ]
  },
  {
   "cell_type": "code",
   "execution_count": null,
   "id": "60cea8fc-5a4e-4bbd-a11c-3e0189d0089e",
   "metadata": {},
   "outputs": [],
   "source": [
    "DB_NAME = \"cancer\"\n",
    "TABLE_NAME = \"predictions\""
   ]
  },
  {
   "cell_type": "markdown",
   "id": "b3a79212-6971-4e4e-aa50-7c87ec185e8c",
   "metadata": {},
   "source": [
    "In a relational database, a **primary key** is a unique identifier for a record in a table. It is a column or a combination of columns that uniquely identifies each row in the table. The primary key is used to enforce referential integrity and to ensure that each row in the table can be uniquely identified. A primary key must be unique, not null, and cannot be changed once it has been set.\n",
    "\n",
    "A **foreign key**, on the other hand, is a field or combination of fields in a table that refers to the primary key of another table. It is used to establish a relationship between two tables in a relational database. A foreign key is a column in one table that refers to the primary key of another table. It is used to enforce referential integrity, which ensures that the data in related tables is consistent.\n",
    "\n",
    "When a foreign key is created, a relationship is established between two tables. The table that contains the foreign key is called the referencing table or child table, and the table that contains the primary key is called the referenced table or parent table. The foreign key in the referencing table must have the same data type as the primary key in the referenced table. The foreign key can be null, which means that a row in the referencing table can exist without a corresponding row in the referenced table.\n",
    "\n",
    "\n",
    "Here are the properties of primary key and foreign key in a relational database:\n",
    "\n",
    "**Primary key**:\n",
    "\n",
    "- Unique: A primary key must be unique and cannot contain duplicate values.\n",
    "- Non-null: A primary key cannot contain null values. Every record in the table must have a primary key value.\n",
    "- Unchangeable: Once a primary key value is set, it cannot be changed or updated.\n",
    "- Single-valued: A primary key must contain a single value, i.e., it cannot be a combination of multiple columns.\n",
    "\n",
    "**Foreign key**:\n",
    "\n",
    "- Referential integrity: A foreign key ensures that the values in the referencing table (child table) match the values in the referenced table (parent table).\n",
    "- Non-null: A foreign key can contain null values, but only if the referencing column is allowed to have nulls.\n",
    "- Relationship: A foreign key establishes a relationship between two tables in a relational database.\n",
    "- Data type: The data type of the foreign key column must match the data type of the primary key column in the referenced table.\n",
    "- Cascade actions: Foreign keys can be configured to take actions when the referenced record is updated or deleted. For example, you can specify that all referencing records are also updated or deleted when the referenced record is updated or deleted. This is known as a cascading update or delete.\n",
    "\n",
    "<center><img src=\"./images/primary_foreign_keys.png\" width=900 height = 200/></center>\n",
    "\n",
    "If a foreign key column in the referencing table contains a null value, it means that there is no corresponding record in the referenced table with the same primary key value. In other words, the relationship between the two tables is not established for that particular record. However, it's important to note that the use of null values in foreign keys can sometimes lead to data inconsistency or referential integrity issues, especially when a foreign key is part of a composite key (a combination of multiple columns). Therefore, it's generally recommended to avoid using null values in foreign keys, or to use them only when absolutely necessary and with careful consideration of the potential implications."
   ]
  },
  {
   "cell_type": "code",
   "execution_count": null,
   "id": "b84b5dfb-d204-4e7f-839b-c8feb611a7fc",
   "metadata": {},
   "outputs": [],
   "source": [
    "conn = sqlite3.connect(f\"{DB_NAME}.db\")  # Creating a database.\n",
    "\n",
    "columns = [\n",
    "    \"id INTEGER PRIMARY KEY\",  # Primary key of our table.\n",
    "    \"country VARCHAR\",\n",
    "    \"mean_concavity REAL\",\n",
    "    \"worst_area REAL\",\n",
    "    \"mean_area REAL\",\n",
    "    \"predicted_class INTEGER\", \n",
    "    \"timestamp DATETIME\"\n",
    "]\n",
    "\n",
    "create_table_cmd = f\"CREATE TABLE {TABLE_NAME} ({','.join(columns)})\"\n",
    "conn.execute(create_table_cmd)  # Running SQL statement.\n",
    "conn.commit()"
   ]
  },
  {
   "cell_type": "code",
   "execution_count": null,
   "id": "e7757d82-5dff-45c9-b4ad-c308053dae60",
   "metadata": {},
   "outputs": [],
   "source": [
    "X_test.head()"
   ]
  },
  {
   "cell_type": "markdown",
   "id": "11887c77-38e5-45c8-bbdb-f5853ccce5a6",
   "metadata": {},
   "source": [
    "Filling the data into table."
   ]
  },
  {
   "cell_type": "code",
   "execution_count": null,
   "id": "5edc0d08-007b-4362-a6b2-16d03ffea2d3",
   "metadata": {},
   "outputs": [],
   "source": [
    "def generate_rnd_dates(n):\n",
    "    start, end = date(2019, 9, 1), date(2023, 6, 1)\n",
    "    dates_diff = end - start\n",
    "    total_days = dates_diff.days\n",
    "\n",
    "    dates = []\n",
    "    for idx in range(n):\n",
    "        randay = random.randrange(total_days)\n",
    "        dates.append(start + timedelta(days=randay))\n",
    "    \n",
    "    return dates\n",
    "    \n",
    "\n",
    "random_dates = generate_rnd_dates(len(X_test))\n",
    "countries = [\"AUT\", \"CZE\", \"NLD\"]  # Randomly assigning one of these countries to each row.\n",
    "random_country = lambda : random.choice(countries)\n",
    "for idx in range(len(X_test)):\n",
    "    mean_concavity, worst_area, mean_area = X_test.iloc[idx].values.tolist()\n",
    "    country = random_country()\n",
    "    date_time = str(random_dates[idx])\n",
    "    row = f\"{idx}, '{country}', {mean_concavity}, {worst_area}, {mean_area}, NULL, '{date_time}'\"\n",
    "    conn.execute(f\"INSERT INTO {TABLE_NAME} VALUES ({row})\")\n",
    "    \n",
    "conn.commit()\n",
    "conn.close()"
   ]
  },
  {
   "cell_type": "markdown",
   "id": "cd4f8db0-d45c-4361-8e5e-7b352070288a",
   "metadata": {},
   "source": [
    "<div class=\"alert alert-block alert-danger\">\n",
    "<b>Action</b>:\n",
    "    <b>Open a terminal an run</b>: `sqlite3 cancer.db`\n",
    "</div> \n",
    "\n",
    "Now let's write some example queries for **predictions** table using Python."
   ]
  },
  {
   "cell_type": "code",
   "execution_count": null,
   "id": "fde144c1-2996-447f-b3c5-22efc09e3943",
   "metadata": {},
   "outputs": [],
   "source": [
    "conn = sqlite3.connect(f\"{DB_NAME}.db\")\n",
    "cur = conn.cursor()\n",
    "cur.execute(f\"SELECT * FROM {TABLE_NAME}\")\n",
    "\n",
    "data = cur.fetchmany(5)  # Use cur.fetchall() to read the whole data.\n",
    "for row in data:\n",
    "    print(row)\n",
    "    \n",
    "conn.close()"
   ]
  },
  {
   "cell_type": "markdown",
   "id": "76816e12-3bf1-4a61-b8e8-9b347f3aa286",
   "metadata": {},
   "source": [
    "## SQLAlchemy\n",
    "\n",
    "<center><img src=\"./images/sqlalchemy.jpeg\" width=500 height = 100/></center>\n",
    "\n",
    "[[image source](https://www.sqlalchemy.org/)]\n",
    "\n",
    "SQLAlchemy is a popular Python library for working with relational databases. It provides a high-level, Pythonic interface for interacting with databases, while still allowing low-level access to the underlying SQL language. SQLAlchemy supports a wide range of relational databases, including MySQL, PostgreSQL, SQLite, Oracle, and Microsoft SQL Server.\n",
    "\n",
    "Some of the key features of SQLAlchemy include:\n",
    "\n",
    "- **ORM (Object-Relational Mapping) layer**: SQLAlchemy provides a powerful and flexible ORM layer that allows developers to interact with the database using Python objects, rather than writing raw SQL queries. This makes it easy to work with the database in a more object-oriented way, while still leveraging the full power of SQL.\n",
    "\n",
    "<center><img src=\"./images/orm.png\" width=500 height = 100/></center>\n",
    "\n",
    "[[image source](https://gungadinn.github.io/data/2019/07/09/ORM/)]\n",
    "\n",
    "- **SQL Expression Language**: SQLAlchemy also provides a SQL expression language that allows developers to construct SQL queries using Python code. This makes it easy to write complex queries in a more readable and maintainable way.\n",
    "\n",
    "- **Connection Pooling**: SQLAlchemy supports connection pooling, which can improve the performance of database operations by reusing existing database connections, rather than creating new ones for each operation.\n",
    "\n",
    "- **Database Abstraction**: SQLAlchemy provides a database-agnostic API, meaning that it abstracts away the differences between various database engines. This allows developers to write code that is portable across different databases.\n",
    "\n",
    "\n",
    "\n",
    "SQLAlchemy supports two approaches to interacting with databases:\n",
    "\n",
    "- **Core**: Provides a low-level SQL expression language and relational algebra API to interact with databases. It allows the user to build SQL queries and expressions using Python code.\n",
    "\n",
    "- **ORM**: Provides a high-level Object-Relational Mapping API that allows the user to work with database data as Python objects. It maps Python classes to database tables and provides a way to query and manipulate database data using Python code."
   ]
  },
  {
   "cell_type": "code",
   "execution_count": null,
   "id": "108049d0-0cd6-481f-a150-2943e1e3bb90",
   "metadata": {},
   "outputs": [],
   "source": [
    "from sqlalchemy import create_engine, MetaData, inspect, text as SQL_text"
   ]
  },
  {
   "cell_type": "code",
   "execution_count": null,
   "id": "f8127c17-310b-4506-89b5-934295b21ac7",
   "metadata": {},
   "outputs": [],
   "source": [
    "engine = create_engine(f\"sqlite:///{DB_NAME}.db\")"
   ]
  },
  {
   "cell_type": "code",
   "execution_count": null,
   "id": "6e7b6f2d-53c3-46e4-8fb4-c4b9fa5e1d1e",
   "metadata": {},
   "outputs": [],
   "source": [
    "# List the tables that form the cancer database.\n",
    "metadata = MetaData()\n",
    "\n",
    "inspector = inspect(engine)\n",
    "inspector.get_table_names()"
   ]
  },
  {
   "cell_type": "code",
   "execution_count": null,
   "id": "1db819a0-2e0e-4eb5-aeea-d05565ae62ac",
   "metadata": {},
   "outputs": [],
   "source": [
    "# Read the column information of 'predictions' table.\n",
    "inspector.get_columns(TABLE_NAME)  # TABLE_NAME = 'predictions'."
   ]
  },
  {
   "cell_type": "code",
   "execution_count": null,
   "id": "950965ff-f977-4997-828f-9263ffbbe80f",
   "metadata": {},
   "outputs": [],
   "source": [
    "# Writing the first query with SQL.\n",
    "with engine.connect() as connection:\n",
    "    \n",
    "    query = SQL_text(f\"\"\"\n",
    "        SELECT * \n",
    "        FROM {TABLE_NAME}\n",
    "    \"\"\")\n",
    "    result = connection.execute(query)  # Returns a generator.\n",
    "    \n",
    "    # Returns a sequence of tuples (a returned tuple entries correspond to \n",
    "    # columns listed in SELECT clause)\n",
    "    for row in result:\n",
    "        print(row)\n",
    "        \n",
    "# No need to close the connection with `connection.close()` as the \n",
    "# context manager `engine.connect()` handles that part for us.      "
   ]
  },
  {
   "cell_type": "code",
   "execution_count": null,
   "id": "a623a6ed-ef34-4776-a384-b5a84b0d87d5",
   "metadata": {},
   "outputs": [],
   "source": [
    "# Reading data with pandas.\n",
    "data = pd.read_sql_query(sql=query, con=engine.connect())\n",
    "data"
   ]
  },
  {
   "cell_type": "code",
   "execution_count": null,
   "id": "1ecece77-4b16-4281-9e09-c8f0334fbd91",
   "metadata": {},
   "outputs": [],
   "source": [
    "# A simple query example.\n",
    "with engine.connect() as connection:\n",
    "    \n",
    "    query = SQL_text(f\"\"\"\n",
    "        SELECT count(*), \n",
    "               count(DISTINCT country) \n",
    "        FROM {TABLE_NAME}\n",
    "    \"\"\")\n",
    "    result = connection.execute(query) \n",
    "    \n",
    "    for row in result:\n",
    "        print(row)"
   ]
  },
  {
   "cell_type": "code",
   "execution_count": null,
   "id": "1d45b7c5-6a14-420f-b1c9-70c5fbbc89cb",
   "metadata": {},
   "outputs": [],
   "source": [
    "# Explain what the following query computes:\n",
    "with engine.connect() as connection:\n",
    "    \n",
    "    query = SQL_text(f\"\"\"\n",
    "        SELECT country, \n",
    "               count(*) AS country_freq\n",
    "        FROM {TABLE_NAME}\n",
    "        WHERE timestamp BETWEEN '2021-01-01' AND '2022-12-31'\n",
    "        GROUP BY country\n",
    "        ORDER BY country_freq DESC\n",
    "    \"\"\")\n",
    "    result = connection.execute(query) \n",
    "    \n",
    "    for row in result:\n",
    "        print(row)\n",
    "        \n",
    "\n",
    "# Note:\n",
    "# SQL 'BETWEEN' is inclusive, i.e. start and end values are included in the range."
   ]
  },
  {
   "cell_type": "markdown",
   "id": "327a5af2-0474-46a5-9102-fe893251617a",
   "metadata": {},
   "source": [
    "### Object-Relational Mapping\n",
    "\n",
    "ORM (Object-Relational Mapping) provides several advantages, including:\n",
    "\n",
    "- **Simplified Database Access**: ORM provides a simplified way to interact with databases. Developers can use ORM frameworks to write SQL queries in an object-oriented way, which makes it easier to read, write, and maintain database code. This saves time and effort by reducing the amount of manual database manipulation code that developers need to write.\n",
    "\n",
    "- **Platform Independence**: ORM provides a way to write database access code that is independent of the database management system (DBMS) being used. This means that developers can write code that works with any DBMS supported by the ORM framework, without having to worry about the specifics of the underlying database system.\n",
    "\n",
    "- **Improved Code Quality**: ORM helps improve the quality of code by reducing the amount of boilerplate code that developers need to write. ORM frameworks provide many built-in features, such as caching, object validation, and data conversion, which can help reduce the amount of custom code that developers need to write. This makes the code more concise, easier to read, and less prone to errors.\n",
    "\n",
    "- **Object-Oriented Programming**: ORM provides a way to use object-oriented programming techniques to interact with databases. This makes it easier to represent the database schema as a set of objects, which can help improve code readability and maintainability."
   ]
  },
  {
   "cell_type": "code",
   "execution_count": null,
   "id": "ddd2256c-ca56-4b77-a5f5-64fbc28a08f8",
   "metadata": {},
   "outputs": [],
   "source": [
    "# Let's drop our table and recreate it with ORM.\n",
    "conn = sqlite3.connect(f\"{DB_NAME}.db\")\n",
    "delete_table_cmd = f\"DROP TABLE {TABLE_NAME}\"\n",
    "conn.execute(delete_table_cmd)\n",
    "conn.commit()"
   ]
  },
  {
   "cell_type": "code",
   "execution_count": null,
   "id": "fd2084ec-83d1-4d30-9e22-fefee96cb893",
   "metadata": {},
   "outputs": [],
   "source": [
    "data.head()"
   ]
  },
  {
   "cell_type": "markdown",
   "id": "278bde30-96c9-4946-af04-533e5601d515",
   "metadata": {
    "tags": []
   },
   "source": [
    "#### Creating table with ORM"
   ]
  },
  {
   "cell_type": "code",
   "execution_count": null,
   "id": "a1db0720-2161-4891-93de-998ed8fad90b",
   "metadata": {},
   "outputs": [],
   "source": [
    "# !pip install SQLAlchemy-Utils==0.40.0"
   ]
  },
  {
   "cell_type": "code",
   "execution_count": null,
   "id": "82635a91-b3a5-4989-a4d8-95e202736a84",
   "metadata": {},
   "outputs": [],
   "source": [
    "from sqlalchemy import Column, Integer, String, Float, TIMESTAMP, create_engine\n",
    "from sqlalchemy.orm import declarative_base\n",
    "from sqlalchemy_utils import create_database, database_exists"
   ]
  },
  {
   "cell_type": "markdown",
   "id": "2c7be9fa-8d7b-4607-9156-a16b258cb9c1",
   "metadata": {},
   "source": [
    "**The declarative base class `Base` works as a registry and maintains a catalog of classes and tables created with it**. There should normally be only one declarative base class in all commonly imported modules. This declarative base class should be inherited by all ORM classes. "
   ]
  },
  {
   "cell_type": "code",
   "execution_count": null,
   "id": "081ec75c-e4a3-4212-ac4a-6904c85c2357",
   "metadata": {},
   "outputs": [],
   "source": [
    "Base = declarative_base()\n",
    "metadata = Base.metadata\n",
    "\n",
    "\n",
    "class CancerPredictions(Base):\n",
    "    __tablename__ = \"predictions\"\n",
    "    \n",
    "    person_id = Column(Integer, primary_key=True)\n",
    "    country = Column(String(100))\n",
    "    mean_concavity = Column(Float)\n",
    "    worst_area = Column(Float)\n",
    "    mean_area = Column(Float)\n",
    "    predicted_class = Column(Integer, nullable=True, default=None)  # nullable is False by default.\n",
    "    timestamp = Column(TIMESTAMP, nullable=False)\n",
    "    "
   ]
  },
  {
   "cell_type": "markdown",
   "id": "085f6f40-5844-416b-a212-209075df1e43",
   "metadata": {},
   "source": [
    "We have just defined an ORM class CancerPredictions which is mapped to the **predictions** table. This class inherits the Base class so it is cataloged in the metadata of the Base class."
   ]
  },
  {
   "cell_type": "code",
   "execution_count": null,
   "id": "7ad43ef5-a591-4699-9b4d-d81688cb5e60",
   "metadata": {},
   "outputs": [],
   "source": [
    "# Let's recreate the database.\n",
    "db_url = f\"sqlite:///{DB_NAME}.db\"\n",
    "\n",
    "if not database_exists(db_url):\n",
    "    create_database(db_url)  # Raises an exception if already exists."
   ]
  },
  {
   "cell_type": "markdown",
   "id": "c1cf6772-f04b-4687-a5fc-cf34d17bcf9a",
   "metadata": {},
   "source": [
    "The `db_url` is the same one that was used to create the engine. It is passed to the `create_database()` function from the SQLAlchemy-Utils library to create the target database. It should be noted that `create_database()` will raise an exception if the database to be created already exists, therefore we need to use the `database_exists()` function from the same library to check if the database already exists before creating it."
   ]
  },
  {
   "cell_type": "code",
   "execution_count": null,
   "id": "00197106-19a0-43d8-8a89-c97229d589e1",
   "metadata": {},
   "outputs": [],
   "source": [
    "# Create the defined table by using metadata.\n",
    "engine = create_engine(db_url, pool_size=5, pool_recycle=3600)\n",
    "metadata.create_all(bind=engine)"
   ]
  },
  {
   "cell_type": "markdown",
   "id": "4c6dd290-7040-4698-a6b3-862715b5b5cd",
   "metadata": {},
   "source": [
    "We can then use the **Base** class to create the **predictions** table for which an ORM class was defined above. Technically, the metadata of the Base class is used, and it will create all the tables whose ORM classes inherit this same Base class."
   ]
  },
  {
   "cell_type": "markdown",
   "id": "aaeadec2-2f87-423d-8727-83c989b12557",
   "metadata": {},
   "source": [
    "The `MetaData.create_all()` method creates all the tables stored in the metadata of the Base class. By default, tables already exist will be skipped and no exception will be raised."
   ]
  },
  {
   "cell_type": "markdown",
   "id": "e71f2438-0e53-4201-acf5-31f5eda4d807",
   "metadata": {},
   "source": [
    "> In SQLAlchemy, the `pool_size` parameter is used to specify the size of the connection pool. A connection pool is a cache of database connections that are kept open and ready to use, so that when an application requests a connection, it can be quickly obtained from the pool rather than having to establish a new connection every time.\n",
    "\n",
    "> It's important to note that the optimal value for `pool_size` depends on various factors, such as the number of concurrent users, the available system resources, and the workload of the database. A higher pool size can improve performance for applications with high concurrency, but can also consume more resources. A lower pool size can conserve resources, but may lead to performance issues if there are too many concurrent users.\n",
    "\n",
    "> The `pool_recycle` parameter in SQLAlchemy specifies the number of seconds after which a connection in the pool should be recycled, or reestablished with the database. This is useful because connections that remain open for too long can become stale and may cause errors when used. Setting `pool_recycle` too low can cause excessive connection churn and reduce performance, while setting it too high can allow stale connections to persist."
   ]
  },
  {
   "cell_type": "markdown",
   "id": "2638db96-cab4-4de8-a398-3d23d2697b2a",
   "metadata": {},
   "source": [
    "#### Inserting data and basic operations with tables"
   ]
  },
  {
   "cell_type": "code",
   "execution_count": null,
   "id": "583bab81-cee1-4c56-a5f6-c38a3ad9d317",
   "metadata": {},
   "outputs": [],
   "source": [
    "from sqlalchemy.orm import sessionmaker, scoped_session"
   ]
  },
  {
   "cell_type": "code",
   "execution_count": null,
   "id": "37881b83-6554-4fe8-9d87-e695a527fa5c",
   "metadata": {},
   "outputs": [],
   "source": [
    "engine = create_engine(db_url, pool_size=5, pool_recycle=3600)\n",
    "\n",
    "# A session is an object that manages database transactions and \n",
    "# provides a high-level interface for working with a database.\n",
    "session_factory = sessionmaker(bind=engine)\n",
    "Session = scoped_session(session_factory)"
   ]
  },
  {
   "cell_type": "markdown",
   "id": "22cfce6e-9761-49ac-b17d-7d93934edd45",
   "metadata": {},
   "source": [
    "**An ORM class is mapped to a table, and the instances of the class to the rows of the table**. Let’s create an instance of the CancerPredictions class and persist it to the database as a row."
   ]
  },
  {
   "cell_type": "code",
   "execution_count": null,
   "id": "02699690-e85f-4deb-b7c2-5acfb4690fe0",
   "metadata": {},
   "outputs": [],
   "source": [
    "# We need to specify Python datetime objects for 'timestamp' column as \n",
    "# strings are not accepted.\n",
    "str2datetime = lambda str_datetime: datetime.strptime(str_datetime, \"%Y-%m-%d\")\n",
    "\n",
    "person = CancerPredictions(country=\"AUT\", mean_concavity=0.04, worst_area=403.6, \n",
    "                           mean_area=637.2, timestamp=str2datetime(\"2022-02-17\"))\n",
    "\n",
    "# Adding a row to the table.\n",
    "with Session() as sess:\n",
    "    sess.add(person)\n",
    "    sess.commit()"
   ]
  },
  {
   "cell_type": "markdown",
   "id": "a8603ae8-4b3c-4032-9d51-18982e786c84",
   "metadata": {},
   "source": [
    "Notes:\n",
    "\n",
    "- We didn’t create an `__init__()` method for the ORM class as it is created by SQLAlchemy under the hood.\n",
    "- We can use the `Session` as a context manager, so we don’t need to explicitly close the Session when the DB operations are completed or failed.\n",
    "- We need to add an ORM instance to the `Session` instance and then call the `commit()` method to persist it to the database. If you need to add multiple ORM instances, you can call the `add_all()` method of the `Session`."
   ]
  },
  {
   "cell_type": "code",
   "execution_count": null,
   "id": "c7b8f215-8174-4c9e-ab32-d8143e87c074",
   "metadata": {},
   "outputs": [],
   "source": [
    "# Reading the newly-created record.\n",
    "with Session() as sess:\n",
    "    # Without first() it retrns a query object which is not readable.\n",
    "    result = sess.query(CancerPredictions).filter(CancerPredictions.person_id == 1).first()\n",
    "    \n",
    "print(f\"person_id = {result.person_id}\")\n",
    "print(f\"country = {result.country}\")\n",
    "print(f\"mean_concavity = {result.mean_concavity}\")\n",
    "print(f\"worst_area = {result.worst_area}\")\n",
    "print(f\"mean_area = {result.mean_area}\")\n",
    "print(f\"predicted_class = {result.predicted_class}\")\n",
    "print(f\"timestamp = {result.timestamp}\")"
   ]
  },
  {
   "cell_type": "markdown",
   "id": "6e905132-ce1f-4ddb-8896-d7bebfe6cd5a",
   "metadata": {},
   "source": [
    "The `first()` method returns the first result from the query. If there is no result, `None` will be returned. If we want to get all the results from the query, we can use the `all()` method, which will return a list of results, or an empty list if there is no result."
   ]
  },
  {
   "cell_type": "code",
   "execution_count": null,
   "id": "70c37b6b-a078-4c3d-9a9c-824033f1c091",
   "metadata": {},
   "outputs": [],
   "source": [
    "with Session() as sess:\n",
    "    result = sess.query(CancerPredictions).filter(CancerPredictions.person_id == 1).first()\n",
    "    \n",
    "    # Updating the value.\n",
    "    result.worst_area = 408.7\n",
    "    sess.add(result)\n",
    "    sess.commit()\n",
    "    \n",
    "    result = sess.query(CancerPredictions).filter(CancerPredictions.person_id == 1).first()\n",
    "    \n",
    "print(f\"worst_area = {result.worst_area}\")"
   ]
  },
  {
   "cell_type": "code",
   "execution_count": null,
   "id": "6a1d7ada-0b4e-44b5-a33d-62130a398722",
   "metadata": {},
   "outputs": [],
   "source": [
    "with Session() as sess:\n",
    "    result = sess.query(CancerPredictions).filter(CancerPredictions.person_id == 1).first()\n",
    "    \n",
    "    # Deleting the record.\n",
    "    sess.delete(result)\n",
    "    sess.commit()"
   ]
  },
  {
   "cell_type": "markdown",
   "id": "be8748c0-cbc3-4e53-a8d5-2bb5d00f348c",
   "metadata": {},
   "source": [
    "#### Let's insert data into our table."
   ]
  },
  {
   "cell_type": "code",
   "execution_count": null,
   "id": "a674e258-85ed-4836-a63c-ed2fdfc6a47c",
   "metadata": {},
   "outputs": [],
   "source": [
    "data.head()"
   ]
  },
  {
   "cell_type": "code",
   "execution_count": null,
   "id": "8b2b666e-8c66-4540-ae75-b16b642a9071",
   "metadata": {},
   "outputs": [],
   "source": [
    "data_list = []\n",
    "labels = model.predict(X_test_transformed)\n",
    "for idx, row in tqdm(enumerate(data.itertuples(index=False)), total=len(data)):\n",
    "    new_record = CancerPredictions(person_id=row.id, country=row.country, \n",
    "                                   mean_concavity=row.mean_concavity,\n",
    "                                   worst_area=row.worst_area, mean_area=row.mean_area, \n",
    "                                   predicted_class=int(labels[idx]), \n",
    "                                   timestamp=str2datetime(row.timestamp))\n",
    "    data_list.append(new_record)\n",
    "\n",
    "    \n",
    "with Session() as sess: \n",
    "    sess.add_all(data_list)\n",
    "    sess.commit()"
   ]
  },
  {
   "cell_type": "code",
   "execution_count": null,
   "id": "ef8dc3d0-151e-4a62-9907-7b13579a55c6",
   "metadata": {},
   "outputs": [],
   "source": [
    "# Querying the data to make sure that is has been successfully inserted.\n",
    "with Session() as sess:\n",
    "    result = sess.query(CancerPredictions).all()\n",
    "    \n",
    "print(f\"The number of queried rows: {len(result)}\")\n",
    "print(f\"Type of each entry: {type(result[0])}\")"
   ]
  },
  {
   "cell_type": "markdown",
   "id": "7f080a26-c486-4321-93e8-784e433e0401",
   "metadata": {},
   "source": [
    "Reading as pandas dataframe."
   ]
  },
  {
   "cell_type": "code",
   "execution_count": null,
   "id": "e7056e5e-661d-4bf5-84a4-e9d6f38df3df",
   "metadata": {},
   "outputs": [],
   "source": [
    "session = Session()\n",
    "people = session.query(CancerPredictions).all()  # A list of ORM objects.\n",
    "\n",
    "df = pd.DataFrame([p.__dict__ for p in people])\n",
    "df = df.drop(\"_sa_instance_state\", axis=1)\n",
    "df"
   ]
  },
  {
   "cell_type": "markdown",
   "id": "8dedf220-b73e-484f-923b-ae6fa109f3d9",
   "metadata": {},
   "source": [
    "**Note that the `__dict__` attribute is used to get the attributes of each ORM object as a dictionary**, and the **_sa_instance_state** attribute is dropped from the DataFrame because it is not relevant to the data.\n",
    "\n",
    "> *_sa_instance_state* is an attribute of SQLAlchemy ORM objects that is used internally by SQLAlchemy to keep track of the state of the object.\n",
    "When you create an ORM object, SQLAlchemy sets the *_sa_instance_state* attribute to an instance of the InstanceState class, which contains information about the object's state, such as whether it has been added to the session, whether its data has been modified, and so on."
   ]
  },
  {
   "cell_type": "markdown",
   "id": "6fd0cb8b-8e18-40ac-877f-46d02e1890ea",
   "metadata": {},
   "source": [
    "Now let's reimplement this query with ORM:\n",
    "\n",
    "```sql\n",
    "        SELECT country, \n",
    "               count(*) AS country_freq\n",
    "        FROM predictions\n",
    "        WHERE timestamp BETWEEN '2021-01-01' AND '2022-12-31'\n",
    "        GROUP BY country\n",
    "        ORDER BY country_freq DESC\n",
    "```"
   ]
  },
  {
   "cell_type": "markdown",
   "id": "507be922-f38c-412b-b584-6f7dd7a71d99",
   "metadata": {},
   "source": [
    "`func` is a module in SQLAlchemy that provides a way to call SQL functions in a database-agnostic way. This is useful because different databases have different SQL syntax for calling functions, and using `func` allows you to write SQL expressions that will work across different database backends."
   ]
  },
  {
   "cell_type": "code",
   "execution_count": null,
   "id": "1c3ee115-33cd-43e6-b92f-a76951f0c2d5",
   "metadata": {},
   "outputs": [],
   "source": [
    "from sqlalchemy import func\n",
    "\n",
    "\n",
    "with Session() as sess:\n",
    "    results = (sess.query(CancerPredictions.country, func.count().label(\"country_freq\"))\n",
    "               .filter(CancerPredictions.timestamp.between(\"2021-01-01\", \"2022-12-31\"))\n",
    "               .group_by(CancerPredictions.country)\n",
    "               .order_by(func.count().desc())\n",
    "               .all())\n",
    "    \n",
    "results"
   ]
  },
  {
   "cell_type": "markdown",
   "id": "591e4d90-aabb-4b12-9838-5b69e9aa4bcb",
   "metadata": {},
   "source": [
    "### Deleting the database."
   ]
  },
  {
   "cell_type": "code",
   "execution_count": null,
   "id": "4b4a5201-b9e6-4401-9f4b-71d03cb45a73",
   "metadata": {},
   "outputs": [],
   "source": [
    "# Dropping the table.\n",
    "engine = create_engine(db_url, pool_size=5, pool_recycle=3600)\n",
    "CancerPredictions.__table__.drop(engine)"
   ]
  },
  {
   "cell_type": "code",
   "execution_count": null,
   "id": "e09014a5-845a-46a8-8db3-4e51d5b1a459",
   "metadata": {},
   "outputs": [],
   "source": [
    "!rm -rf cancer.db"
   ]
  },
  {
   "cell_type": "markdown",
   "id": "fdd13b86-31ad-49a5-94b4-c5b5e9158369",
   "metadata": {},
   "source": [
    "# References\n",
    "- [SQLAlchemy](https://docs.sqlalchemy.org/en/20/)\n",
    "- [What is an ORM, how does it work, and how should I use one?](https://stackoverflow.com/questions/1279613/what-is-an-orm-how-does-it-work-and-how-should-i-use-one)"
   ]
  }
 ],
 "metadata": {
  "kernelspec": {
   "display_name": "env_mlops",
   "language": "python",
   "name": "env_mlops"
  },
  "language_info": {
   "codemirror_mode": {
    "name": "ipython",
    "version": 3
   },
   "file_extension": ".py",
   "mimetype": "text/x-python",
   "name": "python",
   "nbconvert_exporter": "python",
   "pygments_lexer": "ipython3",
   "version": "3.8.6"
  }
 },
 "nbformat": 4,
 "nbformat_minor": 5
}
