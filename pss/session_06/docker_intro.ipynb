{
 "cells": [
  {
   "cell_type": "markdown",
   "id": "df817b10-d24f-48dd-aba0-627becc46817",
   "metadata": {},
   "source": [
    "# AUA, DS 229 – MLOps\n",
    "### Week 7 – Introduction to Docker\n",
    "\n",
    "***"
   ]
  },
  {
   "cell_type": "markdown",
   "id": "4b7a7aa4-c7a5-42fc-b704-bf8d48e7a317",
   "metadata": {},
   "source": [
    "<center><img src=\"./images/docker_logo.png\" width=400 height = 700/></center>"
   ]
  },
  {
   "cell_type": "markdown",
   "id": "ee4c32bc-4c9f-4112-a87c-2304b50b023b",
   "metadata": {},
   "source": [
    "**Docker** is an open-source platform that allows you to create, deploy, and manage applications using containerization technology. **Containerization** is a way of running multiple applications on the same machine in an isolated manner, without interfering with each other.\n",
    "\n",
    "With Docker, you can package your application and all its dependencies into a container, which can then be deployed to any environment that supports Docker. **This ensures that your application runs consistently across different environments**, making it easier to move between development, testing, and production environments."
   ]
  },
  {
   "cell_type": "markdown",
   "id": "8d0bdfd7-3384-4662-8c9d-eda84f35b719",
   "metadata": {},
   "source": [
    "***\n",
    "## The Linux Command Line   "
   ]
  },
  {
   "cell_type": "markdown",
   "id": "b179fe58-988b-443f-bc33-274651ba5e50",
   "metadata": {},
   "source": [
    "### Navigating the file system  \n",
    "| Command | Description |\n",
    "| :------| :-----------|\n",
    "| `pwd` | path to data files to supply the data that will be passed into templates. |\n",
    "| `ls` | to list the files and directories |\n",
    "| `ls -l` | to print a long list |\n",
    "| `cd /` | to go to the root directory |\n",
    "| `cd bin` | to go to the bin directory |\n",
    "| `cd ..` | to go one level up |\n",
    "|  `cd ~` | to go to the home directory |\n",
    "  \n",
    "### Manipulating files and directories \n",
    "| Command | Description |\n",
    "| :------| :-----------|\n",
    "|`mkdir test`              | to create the test directory  |\n",
    "|`mv test docker`          | to rename a directory   |\n",
    "|`touch file.txt`          | to create file.txt  |\n",
    "|`mv file.txt hello.txt`   | to rename a file   |\n",
    "|`rm hello.txt`            | to remove a file   |\n",
    "|`rm -r docker`            | to recursively remove a directory  |\n",
    "  \n",
    "### Editing and viewing files  \n",
    "| Command | Description |\n",
    "| :------| :-----------|\n",
    "|`nano file.txt`        | to edit file.txt  |\n",
    "|`cat file.txt`         | to view file.txt  |\n",
    "|`less file.txt`        | to view with scrolling capabilities  |\n",
    "|`head file.txt`        | to view the first 10 lines  |\n",
    "|`head -n 5 file.txt`   | to view the first 5 lines   |\n",
    "|`tail file.txt`        | to view the last 10 lines   |\n",
    "|`tail -n 5 file.txt`   | to view the last 5 lines   |\n",
    "  \n",
    "### Searching for text  \n",
    "| Command | Description |\n",
    "| :------| :-----------|\n",
    "|`grep hello file.txt`        | to search for hello in file.txt  |\n",
    "|`grep -i hello file.txt`     | case-insensitive search   |\n",
    "|`grep -i hello file*.txt`    | to search in files with a pattern  |\n",
    "|`grep -i -r hello .`         | to search in the current directory  |\n",
    "  \n",
    "### Finding files and directories  \n",
    "| Command | Description |\n",
    "| :------| :-----------|\n",
    "|`find`               | to list all files and directories  |\n",
    "|`find -type d`       | to list directories only  |\n",
    "|`find -type f`       | to list files only  |\n",
    "|`find -name “f*”`    | to filter by name using a pattern  |\n",
    "  \n",
    "### Managing environment variables  \n",
    "| Command | Description |\n",
    "| :------| :-----------|\n",
    "|`printenv`           | to list all variables and their value  |\n",
    "|`printenv PATH`      | to view the value of PATH  |\n",
    "|`echo $PATH`         | to view the value of PATH  |\n",
    "|`export name=bob`    | to set a variable in the current session  |\n",
    "  \n",
    "### Managing processes \n",
    "| Command | Description |\n",
    "| :------| :-----------|\n",
    "|`ps`                 | to list the running processes  |\n",
    "|`kill 34`            | to kill the process with ID 37  |\n",
    "  \n",
    "### Managing users and groups  \n",
    "| Command | Description |\n",
    "| :------| :-----------|\n",
    "|`useradd -m john`    | to create a user with a home directory  |\n",
    "|`adduser john`       | to add a user interactively  |\n",
    "|`usermod`            | to modify a user  |\n",
    "|`userdel`            | to delete a user  |\n",
    "|`groupadd devs`      | to create a group   |\n",
    "|`groups john`        | to view the groups for john  |\n",
    "|`groupmod`           | to modify a group  |\n",
    "|`groupdel`           | to delete a group  |\n",
    "  \n",
    "### File permissions  \n",
    "| Command | Description |\n",
    "| :------| :-----------|\n",
    "|`chmod u+x deploy.sh`    | give the owning user execute permission  |\n",
    "|`chmod g+x deploy.sh`    | give the owning group execute permission  |\n",
    "|`chmod o+x deploy.sh`    | give everyone else execute permission  |\n",
    "|`chmod ug+x deploy.sh`   | to give the owning user and group execute permission  |\n",
    "|`chmod ug-x deploy.sh`   | to remove the execute permission from the owning user and group |"
   ]
  },
  {
   "cell_type": "markdown",
   "id": "917b356c-020f-4c98-9972-09cd7bd621ce",
   "metadata": {},
   "source": [
    "#### Some examples"
   ]
  },
  {
   "cell_type": "code",
   "execution_count": null,
   "id": "7bea8a1a-9a93-45f6-a8ac-4cac814f9409",
   "metadata": {},
   "outputs": [],
   "source": [
    "!pwd"
   ]
  },
  {
   "cell_type": "code",
   "execution_count": null,
   "id": "15205b59-5273-4409-a6bc-552cfe900de5",
   "metadata": {},
   "outputs": [],
   "source": [
    "!ls"
   ]
  },
  {
   "cell_type": "code",
   "execution_count": null,
   "id": "a6d9ad7d-168c-4768-a0e6-12a0f47d3d0c",
   "metadata": {},
   "outputs": [],
   "source": [
    "!mkdir class_notes "
   ]
  },
  {
   "cell_type": "code",
   "execution_count": null,
   "id": "52ea8d52-6034-48f0-968a-9eadf863511b",
   "metadata": {},
   "outputs": [],
   "source": [
    "!ls"
   ]
  },
  {
   "cell_type": "code",
   "execution_count": null,
   "id": "559d56d1-46b2-4c91-a4b7-501c777d60a0",
   "metadata": {},
   "outputs": [],
   "source": [
    "!mkdir class_notes"
   ]
  },
  {
   "cell_type": "code",
   "execution_count": null,
   "id": "94f542e2-79f8-48c0-908d-7f5c7fb36dc8",
   "metadata": {},
   "outputs": [],
   "source": [
    "!man mkdir"
   ]
  },
  {
   "cell_type": "code",
   "execution_count": null,
   "id": "4f7bdfd9-d03b-4dac-967e-e50d1470030b",
   "metadata": {},
   "outputs": [],
   "source": [
    "!man mkdir | head -n 5"
   ]
  },
  {
   "cell_type": "code",
   "execution_count": null,
   "id": "7d6f2fce-2cec-4dee-af34-b7275026d997",
   "metadata": {},
   "outputs": [],
   "source": [
    "!man mkdir | tail -n 5"
   ]
  },
  {
   "cell_type": "code",
   "execution_count": null,
   "id": "088d0f80-2cdc-49e1-afcb-39ceb903667a",
   "metadata": {},
   "outputs": [],
   "source": [
    "!mkdir -p class_notes"
   ]
  },
  {
   "cell_type": "code",
   "execution_count": null,
   "id": "d4d7d516-de19-4a28-b943-9a5769465833",
   "metadata": {},
   "outputs": [],
   "source": [
    "!touch ./class_notes/notes.txt"
   ]
  },
  {
   "cell_type": "code",
   "execution_count": null,
   "id": "78680ee3-bfe4-4e78-86b6-cff0051079e1",
   "metadata": {},
   "outputs": [],
   "source": [
    "!ls class_notes/"
   ]
  },
  {
   "cell_type": "code",
   "execution_count": null,
   "id": "6f20b460-92d3-4cce-b576-66412c4873cc",
   "metadata": {},
   "outputs": [],
   "source": [
    "!echo \"Spring break is coming :D\""
   ]
  },
  {
   "cell_type": "code",
   "execution_count": null,
   "id": "ef77c33d-0f42-4e0b-8624-4d732bcb00aa",
   "metadata": {},
   "outputs": [],
   "source": [
    "!echo \"Spring break is coming :D\" >> ./class_notes/notes.txt"
   ]
  },
  {
   "cell_type": "code",
   "execution_count": null,
   "id": "264f34bb-8239-46fe-ad99-d01a9e1b851e",
   "metadata": {},
   "outputs": [],
   "source": [
    "!cat ./class_notes/notes.txt"
   ]
  },
  {
   "cell_type": "code",
   "execution_count": null,
   "id": "5dd8518d-e315-4996-bd45-276ee2a237a8",
   "metadata": {},
   "outputs": [],
   "source": [
    "!echo \"Spring break is coming :D\" >> ./class_notes/notes.txt"
   ]
  },
  {
   "cell_type": "code",
   "execution_count": null,
   "id": "2c592dfb-4a5a-4f57-a791-6e95fcd48c2d",
   "metadata": {},
   "outputs": [],
   "source": [
    "!cat ./class_notes/notes.txt"
   ]
  },
  {
   "cell_type": "code",
   "execution_count": null,
   "id": "ebab2613-16ee-48bf-afba-ad9c41d3cb8c",
   "metadata": {},
   "outputs": [],
   "source": [
    "!echo Yuhu! > ./class_notes/notes.txt"
   ]
  },
  {
   "cell_type": "code",
   "execution_count": null,
   "id": "d87d117a-6d71-4995-934e-5cbb70c46c37",
   "metadata": {},
   "outputs": [],
   "source": [
    "!cat ./class_notes/notes.txt"
   ]
  },
  {
   "cell_type": "code",
   "execution_count": null,
   "id": "17ad30fe-50b6-4fac-9a31-1a42401ab359",
   "metadata": {},
   "outputs": [],
   "source": [
    "!rm ./class_notes/notes.txt\n",
    "!touch ./class_notes/notes.txt\n",
    "!cat ./class_notes/notes.txt\n",
    "\n",
    "!echo 1 > ./class_notes/notes.txt\n",
    "!echo 2 > ./class_notes/notes.txt\n",
    "!echo 3 > ./class_notes/notes.txt\n",
    "\n",
    "!cat ./class_notes/notes.txt"
   ]
  },
  {
   "cell_type": "code",
   "execution_count": null,
   "id": "fc5523bf-2d47-4185-9bbc-2556981b2217",
   "metadata": {},
   "outputs": [],
   "source": [
    "!rm ./class_notes/notes.txt\n",
    "!touch ./class_notes/notes.txt\n",
    "!cat ./class_notes/notes.txt\n",
    "\n",
    "!echo 1 >> ./class_notes/notes.txt\n",
    "!echo 2 >> ./class_notes/notes.txt\n",
    "!echo 3 >> ./class_notes/notes.txt\n",
    "\n",
    "!cat ./class_notes/notes.txt"
   ]
  },
  {
   "cell_type": "code",
   "execution_count": null,
   "id": "75bd3f7c-9009-4cac-b552-3e7b82577527",
   "metadata": {},
   "outputs": [],
   "source": [
    "!cat ./class_notes/notes.txt | grep 1"
   ]
  },
  {
   "cell_type": "code",
   "execution_count": null,
   "id": "ee167145-0309-4e6c-8b72-1ec89ee52569",
   "metadata": {},
   "outputs": [],
   "source": [
    "!cat ./class_notes/notes.txt | grep 2"
   ]
  },
  {
   "cell_type": "code",
   "execution_count": null,
   "id": "430021a1-5777-4f0f-a79f-1ed145981165",
   "metadata": {},
   "outputs": [],
   "source": [
    "!rm -rf class_notes/"
   ]
  },
  {
   "cell_type": "code",
   "execution_count": null,
   "id": "9af34cb5-5525-41a8-b28a-fdd6b3c53642",
   "metadata": {},
   "outputs": [],
   "source": [
    "# The PATH variable is an environment variable containing an ordered list of paths \n",
    "# that Linux will search for executables when running a command. Using these paths \n",
    "# means that we don't have to specify an absolute path when running a command.\n",
    "\n",
    "!printenv PATH"
   ]
  },
  {
   "cell_type": "code",
   "execution_count": null,
   "id": "3e10210f-fd4c-4740-8378-db4e04036548",
   "metadata": {},
   "outputs": [],
   "source": [
    "!echo $PATH"
   ]
  },
  {
   "cell_type": "code",
   "execution_count": null,
   "id": "f741c2ac-6002-40fa-9148-9181d9f315fc",
   "metadata": {},
   "outputs": [],
   "source": [
    "!printenv | head -n 6"
   ]
  },
  {
   "cell_type": "code",
   "execution_count": null,
   "id": "a0d6877a-3a8b-4e3b-b5b8-d5e66c6306d5",
   "metadata": {},
   "outputs": [],
   "source": [
    "!export MY_ENV=MY_VALUE  # Visible only for the current session."
   ]
  },
  {
   "cell_type": "markdown",
   "id": "c6f698f4-37e6-4aa4-a710-f2b56662e14c",
   "metadata": {},
   "source": [
    "***"
   ]
  },
  {
   "cell_type": "markdown",
   "id": "c597fd83-17e7-427f-86b3-06281a75c7e4",
   "metadata": {
    "tags": []
   },
   "source": [
    "## Virtual Machines vs Containers\n",
    "\n",
    "A virtual machine (VM) is a software-based emulation of a physical computer or server that allows multiple operating systems and applications to run on a single physical machine. A virtual machine typically runs on top of a hypervisor (e.g. VirtualBox), which is responsible for managing and allocating the physical resources of the host machine (such as CPU, memory, and storage) to the virtual machines.\n",
    "\n",
    "Each virtual machine is isolated from other virtual machines and the host machine, allowing multiple operating systems and applications to coexist on the same physical machine without interfering with each other. This makes it possible to run applications that require different operating systems or software configurations on the same physical machine.\n",
    "\n",
    "Virtual machines are commonly used in data centers and cloud computing environments to maximize the utilization of physical hardware resources, reduce hardware costs, and simplify the deployment and management of applications. They are also used for testing and development, allowing developers to test their software on multiple operating systems without needing to use separate physical machines for each one. \n",
    "\n",
    "Docker containers, just like virtual machines, provide a way to run applications in an isolated environment, but there are some disadvantages of VMs compared to Docker containers:\n",
    "\n",
    "1) **Resource overhead**: Virtual machines are heavy and resource-intensive. Each VM requires its own (full) operating system, which takes up significant disk space and memory. In contrast, Docker containers share the host operating system (kernel), which makes them much lighter and more efficient in terms of resource usage.\n",
    "\n",
    "2) **Slow startup time**: Virtual machines can take several minutes to start up, depending on the size of the virtual hard disk, the amount of memory assigned, and other factors. In contrast, Docker containers can start up in just a few seconds, making them ideal for applications that need to be quickly deployed and scaled.\n",
    "\n",
    "3) **Limited portability**: Virtual machines are tied to a specific hypervisor and hardware configuration, which can limit their portability. If you want to move a VM from one environment to another, you may need to make significant changes to the VM configuration. In contrast, Docker containers are highly portable and can be run on any host that supports Docker.\n",
    "\n",
    "\n",
    "A container is an isolated environment for running an application. It’s essentially an operating-system process with its own file system. All containers on a host share the operating system of the host while VMs require their own OS. Particularly, **containers share  the kernel of OS**. [[image source](https://medium.com/@anandthanu/how-do-you-explain-an-os-kernel-to-a-5-year-old-92a08755e014)]\n",
    "><center><img src=\"./images/kernel.png\" width=500 height = 700/></center>\n",
    "> The <b>kernel</b> is the core component of an operating system that provides low-level services to other parts of the system, such as device drivers, memory management, and process management. It is responsible for managing the system's hardware resources, including the CPU, memory, and I/O devices.\n",
    "The kernel is the first component of the operating system to load into memory during the boot process and remains in memory throughout the lifetime of the system. It is responsible for managing system resources and providing an interface between applications and hardware."
   ]
  },
  {
   "cell_type": "markdown",
   "id": "39bbaa72-8c96-40da-b752-4353ed66722a",
   "metadata": {},
   "source": [
    "**Docker Image**: A Docker image is a read-only template that contains a set of instructions for creating a Docker container. It is essentially a snapshot of a file system at a particular point in time, with all the necessary dependencies and configuration files to run an application. Docker images are built using a **Dockerfile**, which is a text file that contains a series of commands for building the image.\n",
    "\n",
    "**Dockerfile** is a plain text file that contains instructions for docker to pakcage up an application into a **docker image**. A docker image conains **EVERYTHING** that an application needs to run - a cut-down OS, runtime environment (e.g. Python), application files and dependencies, environme variables. Once an image is ready, we can tell docker to run an application inside a special proccess called container. As a result, we can bundle an application into an image and run it on any machine that runs Docker.  \n",
    "We can share our images by publishing them on Docker registries. The most popular Docker registry is **Docker Hub**."
   ]
  },
  {
   "cell_type": "markdown",
   "id": "053f7812-9685-45c4-98bc-34b73dcd556b",
   "metadata": {},
   "source": [
    "<center><img src=\"./images/image_container.png\" width=800 height = 500/></center>  \n",
    "\n",
    "[[image source](https://medium.com/swlh/understand-dockerfile-dd11746ed183)]"
   ]
  },
  {
   "cell_type": "markdown",
   "id": "96ac34d3-edc0-4c60-9f38-21f533d0f36e",
   "metadata": {},
   "source": [
    "**Containers are isolated!**  \n",
    "We can start multiple containers from the same image. If we create files or do modifications inside a container, then other containers (that are ran from the same image as the first one) won't see the changes made. This is because each container gets its file system from image and thus, changes in one container are invisible for others."
   ]
  },
  {
   "cell_type": "markdown",
   "id": "f0c1954e-3e4e-41e8-84f6-9d9ed0076ade",
   "metadata": {},
   "source": [
    "When running a container, it uses an isolated filesystem. This custom filesystem is provided by the image. Since the image contains the container’s filesystem, it must contain everything needed to run an application - all dependencies, configurations, scripts, binaries, etc. The image also contains other configuration for the container, such as environment variables, a default command to run, and other metadata."
   ]
  },
  {
   "cell_type": "markdown",
   "id": "eb6b22b3-cdd4-4d06-8c94-5788b236f2f1",
   "metadata": {},
   "source": [
    "**Summary**  \n",
    "A Docker image is a static template that contains instructions for creating a Docker container, while a Docker container is a lightweight and portable executable package that includes an application and all its dependencies. Docker images can be built, shared, and downloaded, while Docker containers can be started, stopped, and deleted, and can run on any system that supports Docker.\n",
    "\n",
    "**Docker image/container only has the application layer of the OS and uses the kernel and CPU of the host machine**. That's why docker container boot's so fast. In your host machine kernel is already running, so if you boot your docker container it will share the running kernel and start the container so fast."
   ]
  },
  {
   "cell_type": "markdown",
   "id": "34645bc0-0dfe-4c8b-bf8a-9172639a457d",
   "metadata": {},
   "source": [
    "## Let's practice!"
   ]
  },
  {
   "cell_type": "markdown",
   "id": "c239a67b-1b71-437d-a362-8dfb08c4f04f",
   "metadata": {},
   "source": [
    "For demonstration we will develop a simple random integer generator for the interval `[a, b)` using `numpy`."
   ]
  },
  {
   "cell_type": "code",
   "execution_count": null,
   "id": "118affc6-68b5-485d-b962-9e8944dd5aa3",
   "metadata": {},
   "outputs": [],
   "source": [
    "!docker --version"
   ]
  },
  {
   "cell_type": "code",
   "execution_count": null,
   "id": "b119ccd3-a6b7-4fba-bc03-2e15d3036f35",
   "metadata": {},
   "outputs": [],
   "source": [
    "!python application/source/random_num_gen.py --a=6 --b=20"
   ]
  },
  {
   "cell_type": "code",
   "execution_count": null,
   "id": "94cefeb6-bf23-4924-9deb-6a2513ca65be",
   "metadata": {},
   "outputs": [],
   "source": [
    "!touch requirements.txt"
   ]
  },
  {
   "cell_type": "code",
   "execution_count": null,
   "id": "58ec37c0-cd7f-4078-8896-9a5daa9e44d8",
   "metadata": {},
   "outputs": [],
   "source": [
    "!mv requirements.txt application/"
   ]
  },
  {
   "cell_type": "code",
   "execution_count": null,
   "id": "94c8ed84-3044-4924-8037-bb3816dcb414",
   "metadata": {},
   "outputs": [],
   "source": [
    "!pip list | head -n 5"
   ]
  },
  {
   "cell_type": "code",
   "execution_count": null,
   "id": "8cabecff-d02b-4838-a97c-2acfd6126c61",
   "metadata": {},
   "outputs": [],
   "source": [
    "!pip list | grep numpy"
   ]
  },
  {
   "cell_type": "code",
   "execution_count": null,
   "id": "ea01a3e1-07a9-4fd8-8174-113fd6adc908",
   "metadata": {},
   "outputs": [],
   "source": [
    "!echo \"numpy==1.23.5\" >> application/requirements.txt"
   ]
  },
  {
   "cell_type": "code",
   "execution_count": null,
   "id": "31fa07ba-7b24-48bc-97c8-1c9eb8de90be",
   "metadata": {},
   "outputs": [],
   "source": [
    "!ls application/"
   ]
  },
  {
   "cell_type": "code",
   "execution_count": null,
   "id": "d5fdc755-d643-4cda-b540-cfa09a72eb65",
   "metadata": {},
   "outputs": [],
   "source": [
    "!cat application/requirements.txt"
   ]
  },
  {
   "cell_type": "code",
   "execution_count": null,
   "id": "02ddfaf5-350b-4e6a-83c0-5da6e37e0154",
   "metadata": {},
   "outputs": [],
   "source": [
    "!pip install -r application/requirements.txt"
   ]
  },
  {
   "cell_type": "markdown",
   "id": "0501c199-e92e-44ba-9f5f-924eb7f19d03",
   "metadata": {},
   "source": [
    "Now that out random number generator is developed, we will start dockerizing it."
   ]
  },
  {
   "cell_type": "markdown",
   "id": "2f974a06-1f1c-4183-ae40-cf99fec56503",
   "metadata": {},
   "source": [
    "### A step-by-step guide to dockerize an application\n",
    "\n",
    "Here are the general steps to dockerize an application:\n",
    "<div class=\"alert alert-block alert-success\">\n",
    "    \n",
    "1) <b>Choose a base image</b>: You will need to choose a base image that matches the operating system and dependencies required by your application. For example, you may choose an image with a specific version of Linux or an image that already has the necessary programming language or framework installed.\n",
    "\n",
    "2) <b>Write a Dockerfile</b>: A Dockerfile is a script that contains instructions for building a Docker image. The Dockerfile should start with the chosen base image, and then include commands to install any additional dependencies required by your application.\n",
    "\n",
    "3) <b>Build the Docker image</b>: Use the Dockerfile to build the Docker image by running the docker build command in your terminal. This will create a new image that includes your application code and all its dependencies.\n",
    "\n",
    "4) <b>Run the Docker container</b>: Once the Docker image is built, you can run it as a container using the docker run command. This will start the application inside the container, which runs in isolation from the host system.\n",
    "\n",
    "5) <b>Publish the Docker image</b>: If you want to share your Docker image with others or use it on another machine, you can publish it to a Docker registry like Docker Hub or Amazon ECR. This step is optional.\n",
    "</div>\n",
    "\n",
    "These are the basic steps involved in dockerizing an application, but the specific details will depend on an application's requirements and the complexity. \n"
   ]
  },
  {
   "cell_type": "markdown",
   "id": "51a278cb-f482-4f39-8b71-66c830b2eba0",
   "metadata": {},
   "source": [
    "#### 1) Let's go to [Docker Hub](https://hub.docker.com/) (an official docker image repository) and choose an image that suits our needs\n"
   ]
  },
  {
   "cell_type": "markdown",
   "id": "172e7ca0-1e85-41ac-9dbe-7afd7d66e68e",
   "metadata": {},
   "source": [
    "As our application only uses python, then it will be wise from our side to choose the base image to have python already installed. So let's search for [python official docker image](https://hub.docker.com/_/python) (just search for 'python' in Docker Hub). "
   ]
  },
  {
   "cell_type": "markdown",
   "id": "068a6490-8c25-4bb0-9106-31e707ca959f",
   "metadata": {},
   "source": [
    "<center><img src=\"./images/python_slim.png\" width=800 height = 700/></center>"
   ]
  },
  {
   "cell_type": "markdown",
   "id": "13142ede-bac6-4554-a5af-e4f1914af260",
   "metadata": {},
   "source": [
    "#### 2) Now that we have already chosen our base image, we can start writing the Dockerfile"
   ]
  },
  {
   "cell_type": "markdown",
   "id": "2019a66a-9fc0-462a-910e-fc4abfa02760",
   "metadata": {},
   "source": [
    "#### Dockerfile\n",
    "\n",
    "* **FROM** - specify base image\n",
    "* **WORKDIR** - specify working directoy, after this command, all other commands that are below will be executed from the specified directory\n",
    "* **COPY** - copy files and directories from the current directory (where Dockerfile resides) into an image\n",
    "* **ADD** - add files or directories (has some additional features compared with COPY, like local-only tar extraction and remote URL support)\n",
    "* **RUN** - execute OS commands\n",
    "* **ENV** - set environment variables\n",
    "* **EXPOSE** - on which port to start a container\n",
    "* **USER** - specify user that should run the application\n",
    "* **CMD** - to set the default command/program\n",
    "* **ENTRYPOINT** - to set the default command/program\n",
    "\n",
    "\n",
    "**ENTRYPOINT** and **CMD** are both instructions that can be used in a Dockerfile to specify how a container should run an application. However, they have different purposes and behaviors.\n",
    "\n",
    "**ENTRYPOINT** is used to specify the command that should be run when the container is started. It is typically used to set the primary command that the container should run. For example, if you were building a Docker image for a Python script, you might use **ENTRYPOINT** to specify that the container should run the python command followed by the name of your script. You can also specify additional arguments to the command using the **CMD** instruction.\n",
    "\n",
    "**CMD** is used to specify default arguments that should be passed to the **ENTRYPOINT** command when the container is started. If a user specifies their own command when starting the container (using `docker run <image> <command>`), the <b>CMD</b> instruction is overridden. For example, if your <b>ENTRYPOINT</b> is set to run a Python script, you might use <b>CMD</b> to specify default arguments like the path to the script or any command-line arguments that should be passed to the script."
   ]
  },
  {
   "cell_type": "code",
   "execution_count": null,
   "id": "69224899-e7e4-48c7-9ad5-7fa4c7b30df3",
   "metadata": {},
   "outputs": [],
   "source": [
    "!touch Dockerfile"
   ]
  },
  {
   "cell_type": "code",
   "execution_count": null,
   "id": "a8039e6e-3eef-4e75-a791-526bff022559",
   "metadata": {},
   "outputs": [],
   "source": [
    "!ls"
   ]
  },
  {
   "cell_type": "markdown",
   "id": "6f9a8ba3-9ac5-46eb-ac66-c09d613b27bf",
   "metadata": {},
   "source": [
    "**Copy/paste this content into your Dockerfile**\n",
    "\n",
    "```Dockerfile\n",
    "FROM python:3.8-slim\n",
    "COPY ./application/requirements.txt ./\n",
    "RUN pip install --no-cache-dir -r requirements.txt\n",
    "COPY application/ ./\n",
    "ENTRYPOINT [ \"python\", \"source/random_num_gen.py\"]\n",
    "CMD [\"--a=6\", \"--b=20\"]\n",
    "```"
   ]
  },
  {
   "cell_type": "markdown",
   "id": "8cf5c023-09ee-46e6-9a80-f27258027bb1",
   "metadata": {},
   "source": [
    "The `--no-cache-dir` option tells pip to not save the downloaded packages locally, as that is only if pip was going to be run again to install the same packages, but that's not the case when working with containers. Usually, we use `--no-cache-dir` to shrink the image size by disabling the cache."
   ]
  },
  {
   "cell_type": "markdown",
   "id": "2db4fb93-816a-4000-a0e0-abc21739c896",
   "metadata": {},
   "source": [
    "#### 3) Build an image"
   ]
  },
  {
   "cell_type": "markdown",
   "id": "35e59d2f-87eb-4acf-8ec9-1ac14f92beab",
   "metadata": {},
   "source": [
    "**Run the following command on terminal to build an image**\n",
    "\n",
    "```bash\n",
    "docker build -t randint_img .\n",
    "```\n",
    "\n",
    "P.S.  \n",
    "The reason for not running it here is because jupyterlab/jupyter-notebook doesn't visualize progress bars."
   ]
  },
  {
   "cell_type": "markdown",
   "id": "db37a5b6-d52c-4044-b78f-a569fed50e69",
   "metadata": {},
   "source": [
    "#### 4) Run a container"
   ]
  },
  {
   "cell_type": "code",
   "execution_count": null,
   "id": "ecd5df12-0b4a-4dd4-8a22-f82801e6a0f9",
   "metadata": {},
   "outputs": [],
   "source": [
    "!docker images"
   ]
  },
  {
   "cell_type": "code",
   "execution_count": null,
   "id": "7d5f393a-bb28-4b3f-9abb-765c486e77ac",
   "metadata": {},
   "outputs": [],
   "source": [
    "# Run the docker container:\n",
    "!docker run randint_img --a=5 --b=7"
   ]
  },
  {
   "cell_type": "code",
   "execution_count": null,
   "id": "1aa5824c-0d40-4648-8790-1bd11fa7a392",
   "metadata": {},
   "outputs": [],
   "source": [
    "!docker run randint_img"
   ]
  },
  {
   "cell_type": "code",
   "execution_count": null,
   "id": "105b38d7-a48b-498e-a873-990b7435e0a7",
   "metadata": {},
   "outputs": [],
   "source": [
    "!docker ps -a"
   ]
  },
  {
   "cell_type": "markdown",
   "id": "56986605-2cb3-4d6f-84f1-5f7c845a82a4",
   "metadata": {},
   "source": [
    "Choose a container id and print its logs."
   ]
  },
  {
   "cell_type": "code",
   "execution_count": null,
   "id": "e8480194-a6cc-4f3b-b2e9-aaee190d94b8",
   "metadata": {},
   "outputs": [],
   "source": [
    "!docker logs 0604da8526cc"
   ]
  },
  {
   "cell_type": "markdown",
   "id": "7d8a2238-3494-4532-adf6-94271fe7d807",
   "metadata": {},
   "source": [
    "#### 5) Publish docker image"
   ]
  },
  {
   "cell_type": "markdown",
   "id": "7c095f2f-58bf-4f6a-9169-9ecfec9d0ccc",
   "metadata": {},
   "source": [
    "**Run the following command on terminal to build your final image (recommended however you can also use the most recent workable image)**\n",
    "\n",
    "```bash\n",
    "docker build -t randint_img:prod .\n",
    "```"
   ]
  },
  {
   "cell_type": "code",
   "execution_count": null,
   "id": "9eab7ede-4822-486e-acc9-855eb2b34238",
   "metadata": {},
   "outputs": [],
   "source": [
    "!docker login"
   ]
  },
  {
   "cell_type": "code",
   "execution_count": null,
   "id": "c8ba3643-e8e8-41f4-96f7-74debce7accb",
   "metadata": {},
   "outputs": [],
   "source": [
    "!docker images"
   ]
  },
  {
   "cell_type": "code",
   "execution_count": null,
   "id": "563440e2-678f-4879-a2dd-91993ef7256d",
   "metadata": {},
   "outputs": [],
   "source": [
    "!docker tag randint_img:prod davitp3/randint_img:prod  # Tagging to make it possible to push into Docker Hub."
   ]
  },
  {
   "cell_type": "code",
   "execution_count": null,
   "id": "296a1bf2-db4c-4f6a-a846-2b9329c66d97",
   "metadata": {},
   "outputs": [],
   "source": [
    "!docker images "
   ]
  },
  {
   "cell_type": "code",
   "execution_count": null,
   "id": "a7fb38df-1760-4e73-b29b-25d1e82a090e",
   "metadata": {},
   "outputs": [],
   "source": [
    "!docker push davitp3/randint_img:prod  # Pushing the image into Docker Hub."
   ]
  },
  {
   "cell_type": "markdown",
   "id": "13dd9ace-29f2-492d-a50b-689b9978eeb1",
   "metadata": {},
   "source": [
    "#### Bonues: Let's pull and run our image assuming we don't have anything related to the project."
   ]
  },
  {
   "cell_type": "code",
   "execution_count": null,
   "id": "70f8372b-ed9e-4e1a-9d59-ad8fa9a5a4bd",
   "metadata": {},
   "outputs": [],
   "source": [
    "!docker system prune -a -f  # Remove all unused images and containers."
   ]
  },
  {
   "cell_type": "code",
   "execution_count": null,
   "id": "deda4c82-06b4-4ec0-9a66-2d7b87c35ced",
   "metadata": {},
   "outputs": [],
   "source": [
    "!docker images"
   ]
  },
  {
   "cell_type": "markdown",
   "id": "e3323595-2a3a-44da-b86d-2f2052b7bb39",
   "metadata": {},
   "source": [
    "Go to [Docker Hub](https://hub.docker.com/) and search for your published image."
   ]
  },
  {
   "cell_type": "code",
   "execution_count": null,
   "id": "2cc9fb3e-61e7-49ff-84fd-619f144c4d08",
   "metadata": {},
   "outputs": [],
   "source": [
    "!docker pull davitp3/randint_img:prod"
   ]
  },
  {
   "cell_type": "code",
   "execution_count": null,
   "id": "81c6fc6a-ae1b-4e2b-b9be-1fff3297c627",
   "metadata": {},
   "outputs": [],
   "source": [
    "!docker images"
   ]
  },
  {
   "cell_type": "code",
   "execution_count": null,
   "id": "c1610da4-6b05-46fb-bb82-a6ab8b46e673",
   "metadata": {},
   "outputs": [],
   "source": [
    "!docker run davitp3/randint_img:prod --a=-4 --b=96"
   ]
  },
  {
   "cell_type": "markdown",
   "id": "f34f3751-d058-45ac-9efd-4bada669e2c9",
   "metadata": {},
   "source": [
    "#### Cleaning up the workspace 😃"
   ]
  },
  {
   "cell_type": "code",
   "execution_count": null,
   "id": "5fd9176b-ee83-4b3d-a506-e35e8aa72dc7",
   "metadata": {},
   "outputs": [],
   "source": [
    "!rm -rf application/requirements.txt Dockerfile\n",
    "!docker system prune -a -f"
   ]
  },
  {
   "cell_type": "markdown",
   "id": "0f3e81f5-b2ec-40ac-bea5-f10fcc2af1b9",
   "metadata": {},
   "source": [
    "<center><img src=\"./images/spring_brake.png\" width=800 height = 600/></center>  "
   ]
  },
  {
   "cell_type": "markdown",
   "id": "87ad2691-a39e-48d7-ab2d-f5a2f8ae82a1",
   "metadata": {},
   "source": [
    "# References\n",
    "- [Docker](https://www.docker.com/)"
   ]
  }
 ],
 "metadata": {
  "kernelspec": {
   "display_name": "env_mlops",
   "language": "python",
   "name": "env_mlops"
  },
  "language_info": {
   "codemirror_mode": {
    "name": "ipython",
    "version": 3
   },
   "file_extension": ".py",
   "mimetype": "text/x-python",
   "name": "python",
   "nbconvert_exporter": "python",
   "pygments_lexer": "ipython3",
   "version": "3.8.6"
  }
 },
 "nbformat": 4,
 "nbformat_minor": 5
}
