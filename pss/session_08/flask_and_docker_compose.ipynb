{
 "cells": [
  {
   "cell_type": "markdown",
   "id": "611dfbb3-7390-4987-b25c-f566490baf5f",
   "metadata": {},
   "source": [
    "# AUA, DS 229 – MLOps\n",
    "### Week 10 – Flask / REST API / OpenAPI & Swagger UI \n",
    "\n",
    "***"
   ]
  },
  {
   "cell_type": "code",
   "execution_count": null,
   "id": "e51913b3-cc84-4a24-b5a8-0bca15701c41",
   "metadata": {},
   "outputs": [],
   "source": [
    "# !pip install Flask==2.1.3\n",
    "# !pip install \"connexion[swagger-ui]==2.14.2\""
   ]
  },
  {
   "cell_type": "markdown",
   "id": "3f07c3c2-35f5-491e-b547-a7e99b4bef86",
   "metadata": {
    "tags": []
   },
   "source": [
    "## What is an API?\n",
    "\n",
    "API stands for \"Application Programming Interface.\" **An API provides a way for different software programs to communicate with each other and exchange information**.\n",
    "\n",
    "APIs allow developers to create applications that can access data and functionality from other systems or services without needing to understand how those systems work. In this way, **APIs can simplify the development process, allowing developers to focus on creating the user interface and business logic of their applications rather than worrying about the details of how different systems work together**.\n",
    "\n",
    "For example, an e-commerce website might use an API provided by a payment processing company to process customer payments. The website would send a request to the API with the customer's payment information, and the API would handle the details of processing the payment with the payment processing company's system. The e-commerce website would then receive a response from the API indicating whether the payment was successful or not."
   ]
  },
  {
   "cell_type": "markdown",
   "id": "2bf5dfc1-ffd6-4da5-ac7b-6762bd20c7ed",
   "metadata": {},
   "source": [
    "<center><img src=\"./images/what_is_an_api.png\" width=800 height = 700/></center>\n",
    "\n",
    "[[image source](https://www.geeksforgeeks.org/what-is-an-api/)]"
   ]
  },
  {
   "cell_type": "markdown",
   "id": "22bd5fda-63ec-45a9-802e-eb913cb91e36",
   "metadata": {},
   "source": [
    "### REST API\n",
    "REST API stands for Representational State Transfer Application Programming Interface. **It is a type of API that uses the HTTP protocol to enable communication between clients and servers**.\n",
    "\n",
    "**REST is a set of architectural principles that define how web standards such as HTTP and URLs should be used to create scalable and maintainable web services**. RESTful APIs follow these principles to create a standard way for applications to communicate with each other over the internet. The principles were defined by Roy Fielding in his doctoral dissertation, and they are widely accepted as the best practices for designing web services.\n",
    "\n",
    "> **HTTP (Hypertext Transfer Protocol) is a protocol used to transfer data over the internet** (protocol is a set of rules or procedures for transmitting data between electronic devices, such as computers). It is the foundation of data communication on the World Wide Web and allows clients and servers to communicate and exchange data.  \n",
    "> **HTTP is based on a request-response model, where a client sends a request to a server, and the server sends a response back to the client**. HTTP requests can be sent using different HTTP methods, such as **GET** (read), **POST** (create), **PUT** (update) and **DELETE** (delete), depending on the type of action that needs to be performed.  \n",
    "> HTTP requests and responses are made up of headers and a body. The headers contain metadata about the request or response, such as the content type or length, while the body contains the actual data being transferred.\n",
    "\n",
    "The main principles of RESTful APIs are:\n",
    "\n",
    "- **Client-server architecture**: The client and the server must be separate from each other, with a clear separation of concerns. This means that the client should not have to know anything about the server's internal implementation.\n",
    "\n",
    "- **Statelessness**: Each request from the client to the server must contain all the necessary information to complete the request. The server does not store any client state between requests, which makes it easier to scale the service.\n",
    "\n",
    "- **Cacheability**: Responses from the server can be cached by clients, which can improve performance and reduce server load.\n",
    "\n",
    "- **Layered system**: A layered system is used to decouple the client from the server. This means that the client can interact with the server without knowing anything about the intermediate layers, such as load balancers or proxies.\n",
    "\n",
    "- **Uniform interface**: A uniform interface is used to decouple the client from the server. This means that clients can interact with the server without knowing anything about the server's internal implementation.\n",
    "\n",
    "- **Code on demand**: This principle is optional and not always used. It allows the server to send executable code to the client to be executed within the client's context.\n",
    "\n",
    "By following these principles, RESTful APIs can create a standardized way for applications to communicate over the internet, making it easier to create scalable and maintainable web services.\n",
    "\n",
    "\n",
    "There are several advantages of using RESTful APIs over non-RESTful APIs:\n",
    "\n",
    "1) **Scalability**: RESTful APIs are designed to be scalable, as they are stateless and cacheable. This means that they can handle a large number of requests without affecting performance.\n",
    "2) **Flexibility**: RESTful APIs are flexible in terms of the data formats they can handle. They can use different data formats, such as JSON, XML, or HTML, making them compatible with a wide range of client applications.\n",
    "3) **Easy to Understand**: RESTful APIs use standard HTTP methods (GET, POST, PUT, DELETE) and URLs to communicate with the server. This makes it easy for developers to understand how to use the API and reduces the learning curve.\n",
    "4) **Separation of Concerns**: RESTful APIs separate the client from the server, with a clear separation of concerns. This makes it easier to modify the server without affecting the client, or vice versa.\n",
    "5) **Reusability**: RESTful APIs promote reusability by breaking down resources into smaller, reusable components. This means that different parts of the API can be used by multiple clients or applications.\n",
    "6) **Interoperability**: RESTful APIs are interoperable, meaning that they can work with different technologies, platforms, and programming languages. This makes it easier to integrate different applications and services.\n"
   ]
  },
  {
   "cell_type": "markdown",
   "id": "170afeb3-c3d9-401a-b3eb-ec5ea5df060e",
   "metadata": {},
   "source": [
    "## [Flask](https://flask.palletsprojects.com/en/2.2.x/)\n",
    "\n",
    "<center><img src=\"./images/flask.png\" width=350 height = 500/></center>\n",
    "\n",
    "**Flask is a lightweight web framework for Python**. It is designed to make building web applications and APIs  easy and quick. Flask provides a simple and flexible architecture, allowing developers to easily extend or modify its functionality to suit their needs.\n",
    "\n",
    "Some key features of Flask include:\n",
    "\n",
    "- **Routing**: Flask allows developers to define URLs for their web applications and map them to specific functions that will handle the requests.\n",
    "- **Templating**: Flask comes with a built-in template engine, Jinja2, which makes it easy to render HTML templates with dynamic content.\n",
    "- **Built-in development server**: Flask includes a development server that makes it easy to test and debug applications during development.\n",
    "- **Extensibility**: Flask can be extended with various third-party extensions that provide additional functionality, such as authentication, database integration, and caching.\n"
   ]
  },
  {
   "cell_type": "markdown",
   "id": "3fcca891-5a7a-489e-a82d-04eeca8dbad5",
   "metadata": {},
   "source": [
    "### [OpenAPI](https://spec.openapis.org/oas/latest.html)\n",
    "\n",
    "<center><img src=\"./images/openapi_swagger.png\" width=350 height = 500/></center>\n",
    "\n",
    "**OpenAPI is a broadly adopted industry standard for describing modern APIs**. This standard, formerly named **Swagger**, is used to describe, produce, consume, and visualize APIs in a vendor neutral format. It defines a standard language-agnostic interface for RESTful APIs, allowing developers to communicate about APIs and share code and documentation. OpenAPI allows you to describe the entire API, including endpoints, request/response formats, security schemes, and other details in a human-readable format. With an OpenAPI specification, developers can generate client libraries and server stubs in multiple programming languages, perform automated testing, and validate compliance with the API standard. OpenAPI promotes a consistent and standardized approach to API design and helps developers build better and more interoperable applications.\n",
    "\n",
    "Nowadays, there are two versions: 2 and 3. Version 2 is the Swagger specification and is quite common thanks to the many tools available. Version 3 is the latest one, the first one from the OpenAPI Initiative (OAI)."
   ]
  },
  {
   "cell_type": "markdown",
   "id": "8b3f8b68-62df-4a95-be60-89f4e9fe94d2",
   "metadata": {},
   "source": [
    "Consider you are a developer at a bank and your task is to write a banking application that will handle all the payments by communicating with the corresponding API that serves the payments in the system. In this case, first of all, you will need to understand the functionalities that the payment API provides. Mainly, the supported operations, calls, their inputs and outputs. This is where OpenAPI can be helpful.\n",
    "\n",
    "\n",
    "**OpenAPI specifications** defines how to describe REST API interface. So how to describe? We can utilize **OpenAPI definition** which is nothing more than a yaml / json file that describes what an API can do. It is standardized and human-readable. The availability of a well-written documentation of an API is vital for developers as understanding even a single endpoint usage by just digging into the codes may take hours. \n"
   ]
  },
  {
   "cell_type": "markdown",
   "id": "fa02359f-0646-4095-9974-099c1524b9e4",
   "metadata": {},
   "source": [
    "### [Connexion](https://github.com/spec-first/connexion)\n",
    "\n",
    "Connexion is a framework that automagically handles HTTP requests based on OpenAPI Specification (formerly known as Swagger Spec) of your API described in YAML format. Connexion allows you to write an OpenAPI specification, then maps the endpoints to your Python functions; this makes it unique, as many tools generate the specification based on your Python code. You can describe your REST API in as much detail as you want; then Connexion guarantees that it will work as you specified.\n",
    "\n",
    "[[source](https://github.com/spec-first/connexion)]\n",
    "\n",
    "\n",
    "For short, OpenAPI is a specification for building RESTful APIs, Swagger is a set of tools for designing and documenting APIs that conform to the OpenAPI specification, and Connexion is a Python module that simplifies the process of building APIs using the OpenAPI specification.\n",
    "\n",
    "\n",
    "***"
   ]
  },
  {
   "cell_type": "markdown",
   "id": "12044fec-79db-4843-a949-8e24a4a09067",
   "metadata": {},
   "source": [
    "## Deveoping an api to serve ML prediction system"
   ]
  },
  {
   "cell_type": "code",
   "execution_count": null,
   "id": "c9448c4b-fd9b-4ab7-9f82-1756fc85db13",
   "metadata": {},
   "outputs": [],
   "source": [
    "import pickle\n",
    "from datetime import datetime\n",
    "import requests\n",
    "import json\n",
    "\n",
    "import pandas as pd\n",
    "import numpy as np\n",
    "import matplotlib.pyplot as plt\n",
    "import seaborn as sns\n",
    "\n",
    "from sklearn.datasets import load_breast_cancer\n",
    "from sklearn.svm import SVC\n",
    "from sklearn.model_selection import GridSearchCV, train_test_split\n",
    "from sklearn.metrics import classification_report\n",
    "from sklearn.preprocessing import StandardScaler\n",
    "\n",
    "%matplotlib inline"
   ]
  },
  {
   "cell_type": "code",
   "execution_count": null,
   "id": "9b6823a7-12b7-4ef2-82a6-98060d158dbf",
   "metadata": {},
   "outputs": [],
   "source": [
    "cancer = load_breast_cancer()\n",
    "\n",
    "features = [\"mean concavity\", \"worst area\", \"mean area\"]\n",
    "df_feat = pd.DataFrame(cancer[\"data\"], columns=cancer[\"feature_names\"])\n",
    "df_target = pd.DataFrame(cancer[\"target\"], columns=[\"Cancer\"])\n",
    "\n",
    "df_feat = df_feat[features]"
   ]
  },
  {
   "cell_type": "code",
   "execution_count": null,
   "id": "04d85425-05a7-4c25-817c-5979381fc1a8",
   "metadata": {},
   "outputs": [],
   "source": [
    "df_feat.head()"
   ]
  },
  {
   "cell_type": "code",
   "execution_count": null,
   "id": "55ba4e9e-2b8c-4366-8cc1-2e816dbfc397",
   "metadata": {},
   "outputs": [],
   "source": [
    "df_target[\"Cancer\"].unique()  # 1 - malignant, 0 - benign."
   ]
  },
  {
   "cell_type": "code",
   "execution_count": null,
   "id": "e2d620af-9b26-4d88-877f-9e042808bfdc",
   "metadata": {},
   "outputs": [],
   "source": [
    "data_to_viz = pd.concat([df_feat, df_target], axis=1)\n",
    "for feature in df_feat.columns:\n",
    "    sns.displot(data=data_to_viz, x=feature, hue=\"Cancer\", kind=\"kde\", height=4)\n",
    "plt.show()"
   ]
  },
  {
   "cell_type": "code",
   "execution_count": null,
   "id": "6eac8aa4-e871-48e2-a42d-5656d8db0485",
   "metadata": {},
   "outputs": [],
   "source": [
    "X_train, X_test, y_train, y_test = train_test_split(df_feat, np.ravel(df_target), \n",
    "                                                    test_size=0.20, random_state=5)\n",
    "\n",
    "print(f\"Train size: {X_train.shape[0]}\")\n",
    "print(f\"Test size: {X_test.shape[0]}\")"
   ]
  },
  {
   "cell_type": "code",
   "execution_count": null,
   "id": "098481a2-421f-4557-b434-c12c9dc24522",
   "metadata": {},
   "outputs": [],
   "source": [
    "scaler = StandardScaler()\n",
    "X_train_transformed = scaler.fit_transform(X_train)"
   ]
  },
  {
   "cell_type": "code",
   "execution_count": null,
   "id": "3dc8d18f-42bd-44dd-836c-915e0cf4acc1",
   "metadata": {},
   "outputs": [],
   "source": [
    "X_test_transformed = scaler.transform(X_test)"
   ]
  },
  {
   "cell_type": "code",
   "execution_count": null,
   "id": "64127a41-1dc6-4119-a560-966a1ff45bc0",
   "metadata": {},
   "outputs": [],
   "source": [
    "param_grid = {'C': [0.1, 1, 10, 100, 1000], \n",
    "              \"gamma\": [1, 0.1, 0.01, 0.001, 0.0001], \n",
    "              \"kernel\": [\"rbf\", \"linear\", \"poly\"]}\n",
    "model = GridSearchCV(SVC(), param_grid, refit=True, cv=3, verbose=1)\n",
    "model.fit(X_train_transformed, y_train)"
   ]
  },
  {
   "cell_type": "code",
   "execution_count": null,
   "id": "da4e161d-3840-40d4-8faf-12027cd94590",
   "metadata": {},
   "outputs": [],
   "source": [
    "model.best_params_"
   ]
  },
  {
   "cell_type": "code",
   "execution_count": null,
   "id": "76f7125f-24fa-4a2b-a2bb-39b1e29a6620",
   "metadata": {},
   "outputs": [],
   "source": [
    "pred = model.predict(X_test_transformed)\n",
    "print(classification_report(y_test, pred))"
   ]
  },
  {
   "cell_type": "code",
   "execution_count": null,
   "id": "c3b09c9e-8e92-4975-b0a8-1a749ea7c431",
   "metadata": {},
   "outputs": [],
   "source": [
    "# Saving the model and data pre-processor object.\n",
    "with open(\"app/checkpoints/model.pkl\", \"wb\") as f:\n",
    "    pickle.dump(model, f)\n",
    "\n",
    "with open(\"app/checkpoints/scaler.pkl\", \"wb\") as f:\n",
    "    pickle.dump(scaler, f)\n",
    "    \n",
    "today = datetime.today()    \n",
    "metadata = {\n",
    "    \"problem\": \"classification\",\n",
    "    \"n_classes\": 2,\n",
    "    \"label2class\": {\n",
    "        0: \"benign\",  \n",
    "        1: \"malignant\"\n",
    "    },\n",
    "    \"model\": \"SVM\",\n",
    "    \"datetime\": str(today.date())\n",
    "}\n",
    "with open(\"app/checkpoints/metadata.pkl\", \"wb\") as f:\n",
    "    pickle.dump(metadata, f)"
   ]
  },
  {
   "cell_type": "markdown",
   "id": "c53974bc-d16d-404b-a8a5-77a8b703aa8b",
   "metadata": {
    "tags": []
   },
   "source": [
    "<div class=\"alert alert-block alert-danger\">\n",
    "<b>Action</b>:\n",
    "    <b>Open a terminal an run</b>: `python app/flask_main.py` and go to http://127.0.0.1:8000/\n",
    "    \n",
    "Go through `app/flask_main.py` file and explain the components that build the API.\n",
    "</div> "
   ]
  },
  {
   "cell_type": "markdown",
   "id": "68153df2-9307-4cf0-8859-0393b211a922",
   "metadata": {},
   "source": [
    "Let's get metadata about the API we wrote in a json format widely used in almost every programming language. To do so we can utilize **requests** package. "
   ]
  },
  {
   "cell_type": "code",
   "execution_count": null,
   "id": "e89f6ef6-ae43-41c5-b81d-674a1bde4529",
   "metadata": {},
   "outputs": [],
   "source": [
    "# Other methods like PUT/POST will throw an error since the endpoint supports only GET method.\n",
    "response = requests.get(\"http://127.0.0.1:8000/metadata_json\")\n",
    "result = json.loads(response.text)\n",
    "result"
   ]
  },
  {
   "cell_type": "markdown",
   "id": "82cfd317-3afc-4d06-892f-6710c0dcbf91",
   "metadata": {},
   "source": [
    "## OpenAPI (Swagger UI)"
   ]
  },
  {
   "cell_type": "markdown",
   "id": "2a51a927-4c0f-4d87-aa0b-b3f26f45801e",
   "metadata": {},
   "source": [
    "Now that we are familiar with Flask, it is time to dive into OpenAPI, a standard for API development.\n",
    "The OpenAPI Specification is an API description format for REST APIs that provides a bunch of functionalities (we will cover only the basic stuff). By utilizing OpenAPI in conjunction with Swagger, it is possible to generate a graphical user interface (GUI) for API exploration. This process involves creating a configuration file that can be accessed by your Flask application.\n",
    "\n",
    "The configuration file for Swagger is a YAML or JSON file that includes your OpenAPI definitions. It contains all the details required to configure your server for URL endpoint definition, input parameter validation, and output response data validation.\n",
    "\n",
    "<mark> Now open `swagger.yml` file and read the following explanations in parallel.</mark>\n",
    "\n",
    "To define an API, it's necessary to specify the version of the OpenAPI definition you are using. This is done using the \"**openapi**\" keyword. The version string is crucial as certain parts of the OpenAPI structure may evolve over time. Similar to how new features are added to each new version of Python, the OpenAPI specification may also see new keywords added or outdated ones removed. Next, title field is for the header that will show up in Swagger UI, with its corresponding description and API version. The 'url' field is for the root path for all endpoints (similar to WORKDIR in Dockerfile). The 'paths' field lists all the endpoints in our API where **operationId** field indicates the python function for serving a certain endpoint. For example, operationId `endpoints.hello_world` tells that `hello_world` function in `endpoints` file/module will serve the endpoint under which that operationId is listed.\n",
    "\n",
    "\n",
    "<div class=\"alert alert-block alert-danger\">\n",
    "<b>Action</b>:\n",
    "    <b>Open a terminal an run</b>: `python app/openapi_main.py` and go to http://127.0.0.1:8000/\n",
    "    \n",
    "Go through `app/openapi_main.py`, `app/endpoints.py` and `swagger.yml` files and explain the components that build the API.\n",
    "</div> \n",
    "\n",
    "\n",
    "<div class=\"alert alert-block alert-danger\">\n",
    "<b>Action</b>:\n",
    "    <b>Open Swagger UI</b>: go to http://127.0.0.1:8000/ui\n",
    "    \n",
    "</div> "
   ]
  },
  {
   "cell_type": "code",
   "execution_count": null,
   "id": "4a36448b-9a92-4bbb-bc0a-1d3e887a6cf1",
   "metadata": {},
   "outputs": [],
   "source": [
    "# An example with Python requests:\n",
    "response = requests.get(\"http://127.0.0.1:8000/predict\", \n",
    "                        params={\"mean_concavity\": 1.2, \n",
    "                                \"worst_area\": 0.6, \n",
    "                                \"mean_area\": 4.2})\n",
    "result = json.loads(response.text)\n",
    "result\n",
    "\n",
    "# http://127.0.0.1:8000/predict?mean_concavity=1.2&worst_area=0.6&mean_area=4.2"
   ]
  },
  {
   "cell_type": "markdown",
   "id": "5d8808ea-718a-4fc6-87fc-42997f236d39",
   "metadata": {
    "tags": []
   },
   "source": [
    "## Containerization"
   ]
  },
  {
   "cell_type": "code",
   "execution_count": null,
   "id": "bd95983d-9245-44c5-87e5-3064820e139f",
   "metadata": {},
   "outputs": [],
   "source": [
    "# Run this command from the app/ directory.\n",
    "!docker build -t cancer_pred_api ."
   ]
  },
  {
   "cell_type": "markdown",
   "id": "69de25ff-64c2-40ca-92ac-876f3b04216e",
   "metadata": {},
   "source": [
    "If an application is run on a port X within a container, then that port is only published in the container. **This means that outside of that container we cannot see the result**. To map the port Y in host into the container port X, run the container with the port argument:  \n",
    "`docker run -p Y:X <image-name>`"
   ]
  },
  {
   "cell_type": "code",
   "execution_count": null,
   "id": "939a31a3-b065-4de1-a8a8-1b303e4cca82",
   "metadata": {},
   "outputs": [],
   "source": [
    "!docker run -p 8000:8000 cancer_pred_api"
   ]
  },
  {
   "cell_type": "markdown",
   "id": "39c05a66-1a39-4f28-98c4-c9f78e0bad53",
   "metadata": {},
   "source": [
    "# Docker-compose"
   ]
  },
  {
   "cell_type": "code",
   "execution_count": null,
   "id": "9ae6d359-1ec9-4691-baa5-141b686e711d",
   "metadata": {},
   "outputs": [],
   "source": [
    "!docker-compose up  "
   ]
  },
  {
   "cell_type": "markdown",
   "id": "34ca6c05-b906-434e-bec7-4c2a95cf044f",
   "metadata": {},
   "source": [
    "## Summary\n",
    "\n",
    "OpenAPI is a specification for building RESTful APIs. It defines a standard for describing API endpoints, data models, and request/response schemas using JSON or YAML files. OpenAPI was formerly known as Swagger, but the project was renamed after it was donated to the OpenAPI Initiative.\n",
    "\n",
    "Swagger is a set of open-source tools for designing, building, and documenting RESTful APIs that conform to the OpenAPI specification. The Swagger toolset includes a range of tools, including Swagger UI for visualizing and interacting with API endpoints, and Swagger Codegen for generating client and server code based on the OpenAPI specification.\n",
    "\n",
    "Connexion is a Python module that simplifies the process of building RESTful APIs using the OpenAPI specification. It allows developers to define API endpoints, data models, and request/response schemas using YAML or JSON files that conform to the OpenAPI specification. Connexion automatically generates Python code based on the provided OpenAPI specification and provides built-in support for various authentication mechanisms and popular web frameworks such as Flask and Tornado."
   ]
  },
  {
   "cell_type": "markdown",
   "id": "28ab3e04-6546-457e-856f-e28f22f8103d",
   "metadata": {},
   "source": [
    "# References\n",
    "- [What is a REST API?](https://www.ibm.com/topics/rest-apis#:~:text=the%20next%20step-,What%20is%20a%20REST%20API%3F,representational%20state%20transfer%20architectural%20style.)\n",
    "- [Docker](https://www.docker.com/)"
   ]
  }
 ],
 "metadata": {
  "kernelspec": {
   "display_name": "env_mlops",
   "language": "python",
   "name": "env_mlops"
  },
  "language_info": {
   "codemirror_mode": {
    "name": "ipython",
    "version": 3
   },
   "file_extension": ".py",
   "mimetype": "text/x-python",
   "name": "python",
   "nbconvert_exporter": "python",
   "pygments_lexer": "ipython3",
   "version": "3.8.6"
  }
 },
 "nbformat": 4,
 "nbformat_minor": 5
}
