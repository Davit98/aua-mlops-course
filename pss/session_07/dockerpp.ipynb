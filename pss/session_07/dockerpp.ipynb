{
 "cells": [
  {
   "cell_type": "markdown",
   "id": "b64be098-d699-412a-b067-4821b18d9a9c",
   "metadata": {},
   "source": [
    "# AUA, DS 229 – MLOps\n",
    "### Week 9 – Docker++\n",
    "\n",
    "***"
   ]
  },
  {
   "cell_type": "markdown",
   "id": "3187f5e7-ef9f-4181-9527-91824975494a",
   "metadata": {},
   "source": [
    "<center><img src=\"./images/docker_logo.png\" width=400 height = 700/></center>"
   ]
  },
  {
   "cell_type": "markdown",
   "id": "cf9e3541-fc3c-4cac-9cda-2c5109e8079e",
   "metadata": {
    "tags": []
   },
   "source": [
    "## Linux: users, groups and permissions"
   ]
  },
  {
   "cell_type": "markdown",
   "id": "32eac440-6bbf-46ce-9125-bf825670f9fc",
   "metadata": {},
   "source": [
    "The command `ls -l` can be used to see the permissions and ownership of files and directories. The option `la` will also display hidden files, while `l` will produce a detailed listing."
   ]
  },
  {
   "cell_type": "code",
   "execution_count": null,
   "id": "82b0e75e-230a-4e68-b57e-eb80bec6a932",
   "metadata": {},
   "outputs": [],
   "source": [
    "!ls -l  # You can also try `ls -la` for hidden files."
   ]
  },
  {
   "cell_type": "markdown",
   "id": "3e4d8c47-4355-4ee3-9eda-7774b689b254",
   "metadata": {},
   "source": [
    "The permissions and ownership of a file or directory are displayed in the first column, which consists of 10 characters and dashes. The second column, containing a single number, indicates the number of files or directories within the directory. The owner is shown in the following column, followed by the group name, size, and the date and time of the most recent access. The file's name is displayed at the end. For example, \n",
    "> `drwxr-xr-x` are the permissions  \n",
    "> `7` is the number of files or directories  \n",
    "> `david` is the owner of the file or directory  \n",
    "> `staff` is the group that owns the file or directory  \n",
    "> `160` is the size   \n",
    "> `Mar 11 15:20` is the datetime of the last access   \n",
    "> `images` is the directory  \n",
    "\n",
    "\n",
    "In the first column, permissions and ownership, the dash `-` (the very first symbol) indicates that it is a regular file (while `d` is for directory), and the following characters show the permissions. The permissions are broken down into 3 sets of 3 characters each: the first set represents the owner's permissions, the second set represents the group's permissions, and the third set represents everyone else's permissions. The possible characters are:\n",
    "- `r`: read permission (allows a file to be opened and read | allows the affected user to list the files within the directory)\n",
    "- `w`: write permission (allows a file to be modified or deleted | allows the affected user to create, rename, or delete files within the directory, and modify the directory's attributes)\n",
    "- `x`: execute permission (allows a file to be executed as a program or script | allows the affected user to enter the directory, and access files and directories inside)\n",
    "- `-`: no permission\n",
    "\n",
    "<center><img src=\"./images/linux_permissions.png\" width=600 height = 600/></center>\n",
    "\n",
    "[[image source](https://pressidium.com/blog/deciphering-linux-file-system-permissions/)]"
   ]
  },
  {
   "cell_type": "markdown",
   "id": "db9fe6d1-32e4-44ac-bb82-53b354403810",
   "metadata": {},
   "source": [
    "The command `chmod` is short for **change mode**. `chmod` is used to change permissions on files and directories. It may be used with either letters or numbers (also known as octal form) to set the permissions. The letters used with `chmod` are in the table below:\n",
    "- `r`: Read\n",
    "- `w`: Write\n",
    "- `x`: Execute\n",
    "- `X`: Execute (only if file is a directory)\n",
    "- `s`: Set user or group ID on execution\n",
    "- `t`: Save program text on swap device\n",
    "- `u`: Current permissions the file has for owner\n",
    "- `g`: Current permissions the file has for users in the same group\n",
    "- `o`: Current permissions the file has for others not in the group\n",
    "\n",
    "\n",
    "Some examples:\n",
    "- `chmod u+x file.txt` – adds execute permission (`+x`) for the owner (`u`) of \"file.txt\"\n",
    "- `chmod go-w file.txt` – removes write permission (`-w`) for the group (`g`) and other users (`o`) of \"file.txt\"\n",
    "- `chmod -R a+x directory` – recursively (`-R`) adds execute permission (`+x`) for all users (`a`) to the \"directory\" and its contents\n",
    "- `chmod 644 file.txt` – gives read and write permission (`6`) to the owner, and read permission (`4`) to the group and other users of \"file.txt\" (octal format of `chmod`)\n",
    "\n",
    "<center><img src=\"./images/octal_chmod.png\" width=400 height = 400/></center>"
   ]
  },
  {
   "cell_type": "markdown",
   "id": "38f781d8-2198-4ee7-8a18-8c599067f00e",
   "metadata": {},
   "source": [
    "> In addition to the most common read/write/execute file permissions, there are some additional modes that you might find useful, specifically the `+t` mode (sticky bit) and the `+s` mode (setuid bit). These functions describe the behavior of files and executables in multi-user situations.\n",
    "\n",
    ">When set on a directory, the sticky bit, or `+t` mode, means that only the owner (or root) can delete or rename files within that directory, regardless of which users have write access to the directory by way of group membership or ownership. This is useful when a directory is owned by a group through which a number of users share write access to a given set of files.\n",
    "It’s important to note that setting the sticky bit on a file does not prevent a user with write permissions to the enclosing directory from deleting or renaming the file—the sticky bit must be set on the enclosing directory. The sticky bit has no function on modern Linux systems when set on files.\n",
    "To set the sticky bit on a directory named **my_directory**, issue the following command: `chmod +t my_directory`\n",
    "To remove the sticky bit from a file or directory, use the `chmod -t` command. Note, to change the sticky bit, you need to be either root or the file/directory owner. The root user is able to delete directories and files within them regardless of the status of the sticky bit.\n",
    "\n",
    "> The setuid bit, or `+s`, when set on files allows users with permissions to execute a given file to run that file with the permissions of file owner. For instance, if the file was owned by the root user and the marketing group, members of the marketing group could run the program (file) as if they were the root user. This may pose potential security risks in some cases and executables should be properly evaluated before receiving the `+s` flag. To set the `+s` bit on a file named **file**, issue the following command: `chmod g+s file`.\n",
    "In contrast to the `+s` mode for the ownership of a file, the effect of the `+s` mode on a directory is somewhat different. Files created in `+s` directories receive the ownership of that directory’s user and group, rather than the ownership of the user that created the file and their default group. "
   ]
  },
  {
   "cell_type": "markdown",
   "id": "9a0ccb1e-21d2-446d-b816-63395eeeacf5",
   "metadata": {},
   "source": [
    "**Ownership**  \n",
    "By default, all files are “owned” by the user who creates them and by that user’s default group. To change the ownership of a file, use the chown command in the `chown user:group /path/to/file` format. In the following example, the ownership of the “file” file is changed to the “linux_user” user in the “developers” group:  \n",
    "`chown linux_user:developers file`.\n",
    "\n",
    "To change the ownership of a directory and all the files contained inside, use the recursive option with the `-R` flag. In the following example, change the ownership of **directory** to the “linux_user” user in the “developers” group:  `chown -R linux_user:developers directory`.\n",
    "\n",
    "\n",
    "\n",
    "\n"
   ]
  },
  {
   "cell_type": "markdown",
   "id": "9ab2c380-e3e3-47ca-9bb5-a241f8fb5741",
   "metadata": {},
   "source": [
    "### File permissions  \n",
    "| Command | Description |\n",
    "| :------| :-----------|\n",
    "|`chmod u+x file`    | give the owning user execute permission  |\n",
    "|`chmod g+x file`    | give the owning group execute permission  |\n",
    "|`chmod o+x file`    | give everyone else execute permission  |\n",
    "|`chmod ug+x file`   | to give the owning user and group execute permission  |\n",
    "|`chmod ug-x file`   | to remove the execute permission from the owning user and group |\n",
    "\n",
    "### Managing users and groups  \n",
    "| Command | Description |\n",
    "| :------| :-----------|\n",
    "|`useradd -m john`    | to create a user with a home directory  |\n",
    "|`adduser john`       | to add a user interactively (recommended)  |\n",
    "|`usermod`            | to modify a user  |\n",
    "|`userdel`            | to delete a user  |\n",
    "|`groupadd devs`      | to create a group   |\n",
    "|`groups john`        | to view the groups for john  |\n",
    "|`groupmod`           | to modify a group  |\n",
    "|`groupdel`           | to delete a group  |"
   ]
  },
  {
   "cell_type": "markdown",
   "id": "6fb9b075-b5a8-49b9-9a12-1c579baedd7e",
   "metadata": {},
   "source": [
    "#### A small example demonstrating the necessity of `chmod`"
   ]
  },
  {
   "cell_type": "markdown",
   "id": "95410ede-fd99-40f6-9f2c-69c8ecb23386",
   "metadata": {},
   "source": [
    "By default, newly created files are assigned `-rw-r--r--` permissions."
   ]
  },
  {
   "cell_type": "code",
   "execution_count": null,
   "id": "0d97168f-8ed7-48b0-b4a6-e48f33574041",
   "metadata": {},
   "outputs": [],
   "source": [
    "!touch dummy_script.sh\n",
    "!ls -l"
   ]
  },
  {
   "cell_type": "code",
   "execution_count": null,
   "id": "4ce01075-e97a-4848-a087-a9f970b706f1",
   "metadata": {},
   "outputs": [],
   "source": [
    "!echo \"echo hello world\" > dummy_script.sh\n",
    "!cat dummy_script.sh"
   ]
  },
  {
   "cell_type": "code",
   "execution_count": null,
   "id": "1b02adcf-9300-484c-bd09-18be67dce7d4",
   "metadata": {},
   "outputs": [],
   "source": [
    "! ./dummy_script.sh  # We don't have permission to execute the script."
   ]
  },
  {
   "cell_type": "code",
   "execution_count": null,
   "id": "7ed1493a-0f41-40ba-a96b-4d4eec374195",
   "metadata": {},
   "outputs": [],
   "source": [
    "!chmod u+x dummy_script.sh"
   ]
  },
  {
   "cell_type": "code",
   "execution_count": null,
   "id": "5c55820a-2127-4503-a8fc-893b799a59e0",
   "metadata": {},
   "outputs": [],
   "source": [
    "!ls -l"
   ]
  },
  {
   "cell_type": "code",
   "execution_count": null,
   "id": "d8bf1ac8-c452-4427-9bf8-b4af5a0b6f48",
   "metadata": {},
   "outputs": [],
   "source": [
    "! ./dummy_script.sh"
   ]
  },
  {
   "cell_type": "code",
   "execution_count": null,
   "id": "e46348be-50a6-4806-87be-67b4d345244f",
   "metadata": {},
   "outputs": [],
   "source": [
    "!rm -rf dummy_script.sh"
   ]
  },
  {
   "cell_type": "markdown",
   "id": "f67d2663-9099-4a2a-9302-3983d75bd5f5",
   "metadata": {
    "tags": []
   },
   "source": [
    "## Dockerfile optimization, interactive mode of containers, managing multiple users, volumes"
   ]
  },
  {
   "cell_type": "markdown",
   "id": "c33057d5-0ef6-4e66-9151-d74cf557ffe6",
   "metadata": {},
   "source": [
    "<center><img src=\"./images/image_container.png\" width=1000 height = 800/></center>"
   ]
  },
  {
   "cell_type": "markdown",
   "id": "cb01d359-3625-4f46-80bf-a47e6a79a8b3",
   "metadata": {
    "tags": []
   },
   "source": [
    "### Building images"
   ]
  },
  {
   "cell_type": "markdown",
   "id": "c67e30a3-ba94-44ae-ab9a-e226b2875996",
   "metadata": {},
   "source": [
    "`docker build -t <image-name> <path-to-the-directory-that-contains-Dockerfile>` – build an image    \n",
    "`docker build -t <image-name>:<TAG> <path-to-the-directory-that-contains-Dockerfile>` – build an image and assign a tag   \n",
    "`docker image tag <image-name> <image-name>:<new-TAG>` – re-tag an image  \n",
    "`docker images` or `docker image ls` – list all images  \n",
    "`docker images prune` – remove images that are unused  \n",
    "`docker image rm <TAG1|NAME1> <TAG2|NAME2> ...` – remove one or more images\n",
    "\n",
    "\n",
    "`docker ps` – show running docker containers (*ps* is short for processes)  \n",
    "`docker ps -a` – show all containers including stopped ones  \n",
    "`docker container prune` – remove all stopped containers  \n",
    "`docker run <image-name>` – run a docker container  \n",
    "`docker run -d <image-name>` – run a docker container in detached mode (i.e. in the background)  \n",
    "`docker run --name=<container-name> <image-name>` – run a docker container and give a name to it (otherwise docker assigns random names)  \n",
    "\n",
    "`docker run -it <image-name>` – run a docker container in interactive mode  \n",
    "`docker run -it <image-name> <command-to-run-at-the-start-of-container>` – run a docker container in interactive mode and execute a command when starting the container (e.g. `bash`, `sh` for shell)  \n",
    "`docker logs <container-id>` – see the output of a container  \n",
    "`docker logs -f <container-id>` – see the output of a container in real-time   \n",
    "`docker logs -n 6 <container-id>` – see the last 6 lines of the output of a container  \n",
    "`docker logs -n 20 -t <container-id>` – see the last 20 lines of the output of a container with message timesteps  \n"
   ]
  },
  {
   "cell_type": "markdown",
   "id": "1e4ef5c9-1cb3-44ff-a527-37d6db8c1949",
   "metadata": {},
   "source": [
    "When you pull an image, docker automatically downloads the image right for your CPU architecture."
   ]
  },
  {
   "cell_type": "markdown",
   "id": "9ea5e3b9-9e39-4a66-8ccf-4324688b1df7",
   "metadata": {},
   "source": [
    "When we build an image with `docker build` and specify the directory of Dockerfile, docker client sends **the content of the current directory** to docker engine which starts executing commands written in Dockerfile. As a result, docker engine doesn't have access to files out of the current directory and thus, we cannot for example COPY out-of-directory files into an image inside Dockerfile."
   ]
  },
  {
   "cell_type": "markdown",
   "id": "9d18d7c0-b8cd-42d5-b3a9-31aa5dd1f795",
   "metadata": {},
   "source": [
    "#### COPY & ADD\n",
    "`COPY <file-1> <file-2> <path-to-a-directory-directory>/` - copy files into a drectory  \n",
    "`COPY <filename_*.extension> <path-to-a-directory-directory>/` - copy all files that start with 'filename_' into a drectory  \n",
    "`COPY . <path-to-a-directory-directory>/` - copy everything from current firectory into the specified directory   \n",
    "`COPY [\"<file-1>\", \"<file-2>\", \"<path-to-a-directory-directory>/\"]` - copy files into a drectory, use this when names contain spaces  \n",
    "\n",
    "We can specify working directory inside an image and use relative paths for the next commands:  \n",
    "`WORKDIR /dir1`   \n",
    "`COPY <file-1> <file-2> .`  \n",
    "instead of   \n",
    "`COPY <file-1> <file-2> /dir1/`  \n",
    "\n",
    "`ADD <filename.zip> <path-to-a-directory-directory>/` - like copy but also unzips the file  \n",
    "\n",
    "It is recommended to use `COPY` instead of `ADD`."
   ]
  },
  {
   "cell_type": "markdown",
   "id": "27416fe3-52ec-42d3-a898-4735fd029d21",
   "metadata": {},
   "source": [
    "#### ENV\n",
    "`ENV <VAR-NAME>=<VALUE>` - set an environment variable"
   ]
  },
  {
   "cell_type": "markdown",
   "id": "a4f08500-9bd5-4036-a339-d2d9f2621608",
   "metadata": {},
   "source": [
    "#### EXPOSE\n",
    "`EXPOSE <port>` - specify a port to which a container must listent to"
   ]
  },
  {
   "cell_type": "markdown",
   "id": "ac890f2f-dcd8-479b-9c18-26c217063678",
   "metadata": {},
   "source": [
    "#### RUN & CMD\n",
    "`RUN` is a build-time instruction while `CMD` is runtime. The commands specified with `RUN` are executed to build the image. The commands specified with `CMD` are executed when starting a container.\n",
    "\n",
    "<mark>Having multiple `CMD` instructions in **Dockerfile**, only the last will have an effect.</mark>\n",
    "\n",
    "There are 2 forms of `CMD`:\n",
    "* Shell form: `CMD <command-part1 command-part2>` that starts a separate shell (cmd for windows)\n",
    "* Execute form: `CMD [\"command-part1\", \"command-part2\"]` that executes commands directly (RECOMMENDED)"
   ]
  },
  {
   "cell_type": "markdown",
   "id": "1b08494d-b456-4225-8ac0-3f186af49edf",
   "metadata": {},
   "source": [
    "#### ENTRYPOINT\n",
    "`ENTRYPOINT` and `CMD` are both instructions that can be used in a Dockerfile to specify how a container should run an application. However, they have different purposes and behaviors. `ENTRYPOINT` has also 2 forms similar to `CMD`.\n",
    "\n",
    "`ENTRYPOINT` is used to specify the command that should be run when the container is started. **It is typically used to set the *primary* command that the container should run**. For example, if you were building a Docker image for a Python script, you might use `ENTRYPOINT` to specify that the container should run the Python command followed by the name of your script. You can also specify additional arguments to the command using the `CMD` instruction.\n",
    "\n",
    "`CMD` **is used to specify default arguments that should be passed to the** `ENTRYPOINT` **command when the container is started. If a user specifies his/her own command when starting the container (using** `docker run <image> <command>`**), the** `CMD` **instruction is overridden**. For example, if your `ENTRYPOINT` is set to run a Python script, you might use `CMD` to specify default arguments like the path to the script or any command-line arguments that should be passed to the script."
   ]
  },
  {
   "cell_type": "code",
   "execution_count": null,
   "id": "9350f223-322f-4a28-9dff-9de1a1274b92",
   "metadata": {},
   "outputs": [],
   "source": [
    "!touch Dockerfile"
   ]
  },
  {
   "cell_type": "markdown",
   "id": "3c37d584-d827-4ebc-a04c-9424ea71b091",
   "metadata": {},
   "source": [
    "<div class=\"alert alert-block alert-danger\">\n",
    "<b>Action</b>:\n",
    "    Copy/paste this content into Dockerfile\n",
    "</div> \n",
    "\n",
    "```Dockerfile\n",
    "FROM python:3.8-slim\n",
    "\n",
    "WORKDIR /app\n",
    "\n",
    "COPY ./application/requirements.txt .\n",
    "RUN pip install --no-cache-dir -r requirements.txt\n",
    "\n",
    "COPY . .\n",
    "```\n",
    "\n",
    "<div class=\"alert alert-block alert-danger\">\n",
    "    \n",
    "and build an image by running `docker build -t randint_img .`\n",
    "</div> "
   ]
  },
  {
   "cell_type": "markdown",
   "id": "bfd3bfb2-c249-4a37-acd7-6e92648c3df9",
   "metadata": {},
   "source": [
    "***\n",
    "\n",
    "<div class=\"alert alert-block alert-danger\">\n",
    "<b>Task 1</b>:\n",
    "    <b>Ignoring files and directories</b>\n",
    "\n",
    "Run the container by starting a shell program (`docker run -it randint_img sh`) and observe that there are redundant files and directories. This is because of the last step in `Dockerfile` where we copied everything from the current directory. To ignore certain files or directories, we need to list them inside a special file named `.dockerignore` (like `.gitignore`) that must be created in the same directory with `Dockerfile`.\n",
    "</div> "
   ]
  },
  {
   "cell_type": "code",
   "execution_count": null,
   "id": "89b50f5d-9c96-4a91-8bee-e797f378bbfc",
   "metadata": {},
   "outputs": [],
   "source": [
    "# Create `.dockerignore`.\n",
    "!touch .dockerignore\n",
    "\n",
    "# Add redundant directories and files.\n",
    "!echo images/ >> .dockerignore\n",
    "!echo \"dockerpp.ipynb\" >> .dockerignore\n",
    "\n",
    "!cat .dockerignore"
   ]
  },
  {
   "cell_type": "markdown",
   "id": "9bb7f851-6af2-4e27-bd19-b123b9e7afc4",
   "metadata": {},
   "source": [
    "<div class=\"alert alert-block alert-danger\">\n",
    "    \n",
    "Re-build the image `docker build -t randint_img .` and run `docker run -it randint_img sh` to make sure that ignored files don't exist.\n",
    "</div> "
   ]
  },
  {
   "cell_type": "code",
   "execution_count": null,
   "id": "d9fa4ad7-2965-44ec-a5a0-634f3744e7d2",
   "metadata": {},
   "outputs": [],
   "source": [
    "!rm -rf .dockerignore  # Cleaning."
   ]
  },
  {
   "cell_type": "markdown",
   "id": "3667d563-77e9-4dbe-9344-502cde2a3dda",
   "metadata": {},
   "source": [
    "***\n",
    "\n",
    "<div class=\"alert alert-block alert-danger\">\n",
    "<b>Task 2</b>:\n",
    "    <b>Environment variables</b>\n",
    "\n",
    "Create an environment variable inside `Dockerfile` and print its value in a container shell.\n",
    "</div> \n",
    "\n",
    "\n",
    "```Dockerfile\n",
    "FROM python:3.8-slim\n",
    "\n",
    "WORKDIR /app\n",
    "\n",
    "COPY ./application/requirements.txt .\n",
    "RUN pip install --no-cache-dir -r requirements.txt\n",
    "\n",
    "ENV MY_VAR=2\n",
    "\n",
    "COPY . .\n",
    "```"
   ]
  },
  {
   "cell_type": "markdown",
   "id": "16dd00e5-0627-4e46-808d-4d741287ef69",
   "metadata": {},
   "source": [
    "***\n",
    "\n",
    "<div class=\"alert alert-block alert-danger\">\n",
    "<b>Task 3</b>:\n",
    "    <b>Creating multiple users</b>\n",
    "\n",
    "For security reasons we often don't want to run our application as a root user that has the highest privileges. Instead we can create a new user inside `Dockerfile` that will tell docker engine to run all the following commands as a newly created user. \n",
    "    \n",
    "Update `Dockerfile` and re-run container.\n",
    "</div> \n",
    "\n",
    "\n",
    "```Dockerfile\n",
    "FROM python:3.8-slim\n",
    "\n",
    "RUN adduser --system --group app_user\n",
    "USER app_user\n",
    "\n",
    "WORKDIR /app\n",
    "\n",
    "COPY ./application/requirements.txt .\n",
    "RUN pip install --no-cache-dir -r requirements.txt\n",
    "\n",
    "ENV MY_VAR=2\n",
    "\n",
    "COPY . .\n",
    "```\n",
    "\n",
    "Above we want to create a new user called **app_user** that will run the application. Note that **app_user** will be assigned to **app_user** group which is the best practice in Linux.\n",
    "\n",
    "Check the user with `whoami` and the group with `groups app_user` (generic syntax: `groups <user>`)."
   ]
  },
  {
   "cell_type": "markdown",
   "id": "a7a6ce73-bdf0-4cb3-baa2-bbc848993aa8",
   "metadata": {},
   "source": [
    "***\n",
    "\n",
    "<div class=\"alert alert-block alert-danger\">\n",
    "<b>Task 4</b>:\n",
    "    <b>Optimal usage of cache</b>\n",
    "\n",
    "Discuss the differences between the two `Dockerfile`s:\n",
    "</div> \n",
    "\n",
    "**Version 1**\n",
    "```Dockerfile\n",
    "FROM python:3.8-slim\n",
    "\n",
    "RUN adduser --system --group app_user\n",
    "USER app_user\n",
    "\n",
    "WORKDIR /app\n",
    "\n",
    "COPY . .\n",
    "RUN pip install --no-cache-dir -r ./application/requirements.txt\n",
    "\n",
    "ENV MY_VAR=2\n",
    "```\n",
    "\n",
    "\n",
    "**Version 2**\n",
    "```Dockerfile\n",
    "FROM python:3.8-slim\n",
    "\n",
    "RUN adduser --system --group app_user\n",
    "USER app_user\n",
    "\n",
    "WORKDIR /app\n",
    "\n",
    "COPY ./application/requirements.txt .\n",
    "RUN pip install --no-cache-dir -r requirements.txt\n",
    "\n",
    "ENV MY_VAR=2\n",
    "\n",
    "COPY . .\n",
    "```\n",
    "\n",
    "**Answer**:\n",
    "\n",
    "<div class=\"alert alert-block alert-success\">\n",
    "Docker has built-in optimization that checks if instructions listed in Dockerfile are not changed, then it builds from its cache saving time. <b>Note that once a layer / instruction is re-built, all the following layers / instructions need to be re-built</b>. It is recommended to develop your Dockerfile in such a way that instructions that are changed rarely to be on the top and instructions that are changed frequently to be on the bottom. With such a setup, docker will utilize its cache for most of the instructions / layers saving time when building an image.\n",
    "</div> \n",
    "\n",
    "\n",
    "The thing is that in the first version, we copy all the source codes into docker image. Because source codes are changed frequently then docker engine has to do all the installations (`pip install -r requirements.txt`) after each change to the codebase. To avoid that, we can copy the `requirements.txt` and install it in advance and thereafter copy the source codes (and the remaining files). As the application requirements are rarely changed docker engine will bring the installations from its cache speeding up all the subsequent image builds.\n",
    "\n",
    "***"
   ]
  },
  {
   "cell_type": "markdown",
   "id": "490cf743-35c5-407e-98c4-e2f84189646c",
   "metadata": {},
   "source": [
    "Docker also provides functioality to save / load images. Play with the following commands on your own:  \n",
    "`docker image save -o <output-file> <image>`  \n",
    "`docker image load -i <path-to-file>`"
   ]
  },
  {
   "cell_type": "markdown",
   "id": "a4fb329e-849f-418b-9e62-40d5f2036654",
   "metadata": {
    "tags": []
   },
   "source": [
    "### Containers"
   ]
  },
  {
   "cell_type": "markdown",
   "id": "7e062cc9-a595-4eaa-84d4-a7a009f3f5f0",
   "metadata": {},
   "source": [
    ">If an application is run on a port X within a container, then that port is only published in that container (X is given with EXPOSE command in Dockerfile). This means that outside of that container we cannot see the result. To map the port Y in host into the container port X run the container with the port argument:  \n",
    "`docker run -p Y:X <image-name>`"
   ]
  },
  {
   "cell_type": "markdown",
   "id": "0b904040-b309-4023-afec-acba9ecc91f4",
   "metadata": {},
   "source": [
    "`docker stop <container-name | container-id>` - to stop a container  \n",
    "`docker start <container-name | container-id>` - to start a stopped container  \n",
    "`docker rm <container-name | container-id>` or `docker container rm <container-name | container-id>` - to remove a stopped container  \n",
    "`docker rm -f <container-name | container-id>` or `docker container rm -f <container-name | container-id>` - to remove a container  "
   ]
  },
  {
   "cell_type": "markdown",
   "id": "86774811-7521-497d-a067-7bbf7dd30538",
   "metadata": {},
   "source": [
    "**Since containers have isolated file system** then two containers created from the same image cannot share files between each other. Hence, it is not recommended to store files / data in a container's file system. Moreover, if we delete that container, its file system will also be removed meaning that we can lose data. Here is where volumes come into play!"
   ]
  },
  {
   "cell_type": "code",
   "execution_count": null,
   "id": "139c07aa-f953-446e-99c1-a73ae42c8b00",
   "metadata": {},
   "outputs": [],
   "source": [
    "!docker run randint_img python application/source/random_num_gen.py --a=6 --b=20"
   ]
  },
  {
   "cell_type": "markdown",
   "id": "1fe9f57f-9fd6-43c3-b111-83907bab6e2b",
   "metadata": {},
   "source": [
    "***\n",
    "\n",
    "<div class=\"alert alert-block alert-danger\">\n",
    "<b>Task 5</b>:\n",
    "    <b>Show that containers created from the same image have isolated file systems</b>\n",
    "\n",
    "To do so, start a new container (`docker exec -it <container-id> sh`) and create a plain `dummy.txt` file, write smth inside and exit (just execute `exit`). Next, start a new container from the same image (execute `docker run -it randint_img sh` to start a new container with shell program in interactive mode or `docker exec -it <container-id> sh` to start a shell program in already running container) in a separate terminal window (for clarity) and make sure that the file created in the previous step doesn't exist. Finally, exit the container and start the container of the first step in interactive mode (`docker start -i <container-id>`) to check that the file exists. \n",
    "    \n",
    "This is why we should never store data files (logs, output metrics of application, etc.) into docker container. \n",
    "</div> \n",
    "\n",
    "\n",
    ">If we want to run a command inside a running docker container we need to use `exec`:  \n",
    ">`docker exec <container-name | container-id> <command>`  \n",
    ">* `docker exec <container-name> ls` will show all the files in the container under the directory specified by `WORKDIR` in Dockerfile  \n",
    ">* `docker exec -it <container-name> sh` - run a shell (interactively), to get out run `exit` command  \n",
    ">After running a command with `exec` the container won't stop, it will continue running.\n",
    "\n",
    "***"
   ]
  },
  {
   "cell_type": "markdown",
   "id": "f96c4211-f015-4f06-b90f-170c03850121",
   "metadata": {},
   "source": [
    "The solution on how dontainers can interact and share data is the concept of **volume**."
   ]
  },
  {
   "cell_type": "markdown",
   "id": "29f98da7-5e1e-41de-a11f-81d9e1e4dd09",
   "metadata": {},
   "source": [
    "**A *volume* is a storage outside of a container. It can be a directory on the host, a cloud server, etc**.  \n",
    "`docker volume create <volume-name>` - create a volume in a host   \n",
    "`docker volume inspect <volume-name>` - inspect a volume a "
   ]
  },
  {
   "cell_type": "code",
   "execution_count": null,
   "id": "024c5a77-7fd7-4796-90b6-2430363585f9",
   "metadata": {},
   "outputs": [],
   "source": [
    "!docker volume create my_volume"
   ]
  },
  {
   "cell_type": "code",
   "execution_count": null,
   "id": "44c5c3f6-471a-4ddc-b28d-47c9d2045c0c",
   "metadata": {},
   "outputs": [],
   "source": [
    "!docker volume inspect my_volume"
   ]
  },
  {
   "cell_type": "markdown",
   "id": "b550636c-859c-4deb-9724-13fb50304841",
   "metadata": {},
   "source": [
    "**Mountpoint** key will represent the directory of the volume. \n",
    ">In case of macOS, since docker runs in a linux VM, we can never see that directory. For Linux and Windows, we can easily see what it contains by following the path.\n",
    "\n",
    "`docker run -v <volume-name>:<path-in-container> <image-name>` - map a file in the host file system (i.e. volume) to a path in a container  \n",
    "**If the specified volume or directory in the container is not created, docker will automatically create for us**. Note that a directory in the container will be created by a ROOT user meaning that other users cannot write there.  \n",
    "After mapping, inside a container we can write in the specified directory, stop and delete that container, create a new one and again see the data written in the previous steps is there. This is because the directory in a container is mapped to another directory outside a container, i.e. volume. We can also do multiple mapping by just repeating `-v`."
   ]
  },
  {
   "cell_type": "markdown",
   "id": "b3f631e2-3934-4a3b-ae5d-feb4e658cc13",
   "metadata": {},
   "source": [
    "***\n",
    "\n",
    "<div class=\"alert alert-block alert-danger\">\n",
    "<b>Task 6</b>:\n",
    "    <b>Demonstrate how a volume is used</b>\n",
    "\n",
    "Change the Dockerfile as shown below (create `some_dir` which will get mapped to a volume) \n",
    "</div> \n",
    "\n",
    "    \n",
    "```Dockerfile\n",
    "FROM python:3.8-slim\n",
    "\n",
    "RUN adduser --system --group app_user\n",
    "USER app_user\n",
    "\n",
    "WORKDIR /app\n",
    "\n",
    "COPY . .\n",
    "RUN pip install --no-cache-dir -r ./application/requirements.txt\n",
    "\n",
    "RUN mkdir some_dir\n",
    "\n",
    "ENV MY_VAR=2\n",
    "```\n",
    "\n",
    "\n",
    "<div class=\"alert alert-block alert-danger\">\n",
    "    \n",
    "and build docker image: `docker build -t randint_img .`  \n",
    "    \n",
    "Now that image is created, we can run container shell program in interactive mode by mapping **my_volume** to `some_dir`:  \n",
    "    `docker run -it -v my_volume:/app/some_dir randint_img sh`  \n",
    "    \n",
    "Next, inside `some_dir` we can create a new file, fill some data there, exit and delete the container (`docker container rm <container-id>`). Then, if we create another container from the same image, we can easily make sure that the data created in the previous step exists even though we have deleted the container. This is the magic of volumes!\n",
    "    \n",
    "</div> \n",
    "\n",
    "***"
   ]
  },
  {
   "cell_type": "markdown",
   "id": "c1dfd152-4423-4230-a781-85bf93c5093c",
   "metadata": {},
   "source": [
    "If we have a file inside a directory that we want to analyze further in the host (for example, a logging output), we can copy that file into host using the following command:  \n",
    "`docker cp <container-name | container-id>:<path -to-file> <path-to-storage-in-host>`  \n",
    "We can also use the same command with the reverse order to copy a file from host into a running container."
   ]
  },
  {
   "cell_type": "markdown",
   "id": "e803f101-8716-43d7-b4a4-2815a7bef073",
   "metadata": {},
   "source": [
    "<div class=\"alert alert-block alert-danger\">\n",
    "<b>Task 7</b>:\n",
    "    <b>Demonstrate how to copy files from container to host</b>\n",
    "    \n",
    "Run a container, create some file in it (e.g. `output.txt`) and fill in dummy data and exit. Next, run the below command to copy that file to host:  \n",
    "    `docker cp <container-id>:/app/output.txt .`\n",
    "    \n",
    "Moreover, we can also send file to container. Try  \n",
    "    1) `docker cp dockerpp.ipynb <container-id>:/app/`  \n",
    "    2) `docker start -i <container-id>`\n",
    "</div> \n",
    "\n",
    "\n",
    "> Sometime we don't want to build docker image everytime we do a tiny change to the codebase (consider you fixed a typo in comments). In such situations *binding* may be useful.  \n",
    ">`docker run -v $(pwd):<path-in-container> <image-name>` - bind / map a specific directory in host to a docker container  \n",
    "With this command we can, for example, map outer source codes into a container. Having this done, we can do changes that will be immediately visible to the container and the running application inside it. \n",
    "\n",
    "***"
   ]
  },
  {
   "cell_type": "markdown",
   "id": "d462827c-8b11-4196-8796-75df03edc2f1",
   "metadata": {},
   "source": [
    "#### Cleaning up the workspace"
   ]
  },
  {
   "cell_type": "code",
   "execution_count": null,
   "id": "7cbed188-9175-4ecb-ab67-35bc3583b054",
   "metadata": {},
   "outputs": [],
   "source": [
    "!rm -rf Dockerfile \n",
    "!rm -rf .dockerignore\n",
    "!rm -rf output.txt\n",
    "!docker volume rm my_volume\n",
    "!docker system prune -a -f"
   ]
  },
  {
   "cell_type": "markdown",
   "id": "2edf3633-df50-4237-97b2-5f4a1cfb0afd",
   "metadata": {},
   "source": [
    "# References\n",
    "- [Docker](https://www.docker.com/)"
   ]
  }
 ],
 "metadata": {
  "kernelspec": {
   "display_name": "env_mlops",
   "language": "python",
   "name": "env_mlops"
  },
  "language_info": {
   "codemirror_mode": {
    "name": "ipython",
    "version": 3
   },
   "file_extension": ".py",
   "mimetype": "text/x-python",
   "name": "python",
   "nbconvert_exporter": "python",
   "pygments_lexer": "ipython3",
   "version": "3.8.6"
  }
 },
 "nbformat": 4,
 "nbformat_minor": 5
}
